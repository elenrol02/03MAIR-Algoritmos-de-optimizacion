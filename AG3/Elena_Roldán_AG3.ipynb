{
  "nbformat": 4,
  "nbformat_minor": 0,
  "metadata": {
    "colab": {
      "name": "Elena_Roldán_AG3.ipynb",
      "version": "0.3.2",
      "provenance": [],
      "include_colab_link": true
    },
    "kernelspec": {
      "name": "python3",
      "display_name": "Python 3"
    }
  },
  "cells": [
    {
      "cell_type": "markdown",
      "metadata": {
        "id": "view-in-github",
        "colab_type": "text"
      },
      "source": [
        "<a href=\"https://colab.research.google.com/github/elenrol02/03MAIR-Algoritmos-de-optimizacion/blob/master/AG3/Elena_Rold%C3%A1n_AG3.ipynb\" target=\"_parent\"><img src=\"https://colab.research.google.com/assets/colab-badge.svg\" alt=\"Open In Colab\"/></a>"
      ]
    },
    {
      "metadata": {
        "id": "z-_nd22gdnmd",
        "colab_type": "text"
      },
      "cell_type": "markdown",
      "source": [
        "AG3 - ACTIVIDAD GUIADA 1 <br>\n",
        "\n",
        "Elena Roldán Del Cerro <br>\n",
        "\n",
        "URL: https://github.com/elenrol02/03MAIR-Algoritmos-de-optimizacion/tree/master/AG3 <br>"
      ]
    },
    {
      "metadata": {
        "id": "oalB-cB2e1IU",
        "colab_type": "code",
        "colab": {
          "base_uri": "https://localhost:8080/",
          "height": 34
        },
        "outputId": "45593cf1-94e0-42e7-971c-946854838582"
      },
      "cell_type": "code",
      "source": [
        "#Problema del agente viajero\n",
        "\n",
        "import urllib.request\n",
        "\n",
        "file = \"swiss42.tsp\"\n",
        "\n",
        "urllib.request.urlretrieve(\"http://elib.zib.de/pub/mp-testdata/tsp/tsplib/tsp/swiss42.tsp\", file)"
      ],
      "execution_count": 2,
      "outputs": [
        {
          "output_type": "execute_result",
          "data": {
            "text/plain": [
              "('swiss42.tsp', <http.client.HTTPMessage at 0x7f55bfddc240>)"
            ]
          },
          "metadata": {
            "tags": []
          },
          "execution_count": 2
        }
      ]
    },
    {
      "metadata": {
        "id": "cmMIeFqkfCw8",
        "colab_type": "code",
        "colab": {
          "base_uri": "https://localhost:8080/",
          "height": 343
        },
        "outputId": "cce1edce-afda-4d37-f632-93d4dd0bed0f"
      },
      "cell_type": "code",
      "source": [
        "#Libreria para cargar toda la informacion\n",
        "\n",
        "!pip install tsplib95"
      ],
      "execution_count": 3,
      "outputs": [
        {
          "output_type": "stream",
          "text": [
            "Collecting tsplib95\n",
            "  Downloading https://files.pythonhosted.org/packages/d1/4f/6a1cb104ce9b400eed7690641230fab1515bd475f2dd86d4a3a73f677e3b/tsplib95-0.3.2-py2.py3-none-any.whl\n",
            "Requirement already satisfied: Click>=6.0 in /usr/local/lib/python3.6/dist-packages (from tsplib95) (7.0)\n",
            "Collecting networkx==2.1 (from tsplib95)\n",
            "\u001b[?25l  Downloading https://files.pythonhosted.org/packages/11/42/f951cc6838a4dff6ce57211c4d7f8444809ccbe2134179950301e5c4c83c/networkx-2.1.zip (1.6MB)\n",
            "\u001b[K    100% |████████████████████████████████| 1.6MB 12.9MB/s \n",
            "\u001b[?25hRequirement already satisfied: decorator>=4.1.0 in /usr/local/lib/python3.6/dist-packages (from networkx==2.1->tsplib95) (4.3.2)\n",
            "Building wheels for collected packages: networkx\n",
            "  Building wheel for networkx (setup.py) ... \u001b[?25ldone\n",
            "\u001b[?25h  Stored in directory: /root/.cache/pip/wheels/44/c0/34/6f98693a554301bdb405f8d65d95bbcd3e50180cbfdd98a94e\n",
            "Successfully built networkx\n",
            "\u001b[31mimgaug 0.2.8 has requirement numpy>=1.15.0, but you'll have numpy 1.14.6 which is incompatible.\u001b[0m\n",
            "\u001b[31malbumentations 0.1.12 has requirement imgaug<0.2.7,>=0.2.5, but you'll have imgaug 0.2.8 which is incompatible.\u001b[0m\n",
            "Installing collected packages: networkx, tsplib95\n",
            "  Found existing installation: networkx 2.2\n",
            "    Uninstalling networkx-2.2:\n",
            "      Successfully uninstalled networkx-2.2\n",
            "Successfully installed networkx-2.1 tsplib95-0.3.2\n"
          ],
          "name": "stdout"
        }
      ]
    },
    {
      "metadata": {
        "id": "3UhhbpD6fdTi",
        "colab_type": "code",
        "colab": {}
      },
      "cell_type": "code",
      "source": [
        "import tsplib95\n",
        "import random\n",
        "from math import e\n",
        "\n",
        "problem = tsplib95.load_problem(file)\n",
        "\n",
        "\n",
        "#Nodos\n",
        "Nodos = list(problem.get_nodes())\n",
        "\n",
        "#Aristas\n",
        "Aristas = list(problem.get_edges()) \n",
        "\n"
      ],
      "execution_count": 0,
      "outputs": []
    },
    {
      "metadata": {
        "id": "b1siL0H9g4mc",
        "colab_type": "code",
        "colab": {}
      },
      "cell_type": "code",
      "source": [
        "#Devuelve el factorial de un numero\n",
        "def factorial(n):\n",
        "    if n == 0:\n",
        "        return 1\n",
        "    else:\n",
        "        return n * factorial(n-1)\n",
        "              \n",
        "#Se genera una solucion aleatoria con comienzo en el nodo 0\n",
        "#Cogemos todos los nodos desde 0 y se va añadiendo a la solución en cada ciclo un nuevo nodo de forma aleatoria quitando el cero y los nodos que ya aprecen en solucion\n",
        "def crear_solucion(Nodos):\n",
        "  solucion = [0]\n",
        "  for i in range(len(Nodos)-1):\n",
        "    solucion = solucion + [random.choice(list(set(Nodos) - set({0}) - set(solucion)))]\n",
        "  return solucion \n",
        "\n",
        "#Devuelve la distancia entre dos nodos\n",
        "def distancia(a,b, problem):\n",
        "  return problem.wfunc(a,b)\n",
        "                 \n",
        "#Devuelve la distancia total de una trayectoria\n",
        "#Hay que sumarle la distancia desde el punto final al punto inicial\n",
        "def distancia_total(solucion, problem):\n",
        "  distancia_total = 0\n",
        "  for i in range(len(solucion)-1):\n",
        "    distancia_total += distancia(solucion[i] ,solucion[i+1] ,  problem)\n",
        "  return distancia_total + distancia(solucion[len(solucion)-1] ,solucion[0], problem)                 \n",
        "\n"
      ],
      "execution_count": 0,
      "outputs": []
    },
    {
      "metadata": {
        "id": "A6RvteRNm2To",
        "colab_type": "code",
        "colab": {
          "base_uri": "https://localhost:8080/",
          "height": 71
        },
        "outputId": "04a95500-9f44-44a2-af8e-d2c76bdab520"
      },
      "cell_type": "code",
      "source": [
        "#Búsqueda aleatoria\n",
        "#N es la condición de parada\n",
        "def busqueda_aleatoria(problem, N):\n",
        "  \n",
        "  Nodos = list(problem.get_nodes())\n",
        "  \n",
        "  mejor_solucion = []\n",
        "  #Se define una distancia inicial muy grande\n",
        "  mejor_distancia = 10e100\n",
        "  \n",
        "  for i in range(N):\n",
        "    solucion = crear_solucion(Nodos)\n",
        "    distancia = distancia_total(solucion, problem)\n",
        "    \n",
        "    if distancia < mejor_distancia:\n",
        "      mejor_solucion = solucion\n",
        "      mejor_distancia = distancia\n",
        "      \n",
        "      \n",
        "  print(\"Mejor solución:\" , mejor_solucion) \n",
        "  print(\"Distancia     :\" , mejor_distancia) \n",
        "  return mejor_solucion\n",
        "\n",
        "sol=busqueda_aleatoria(problem,100)"
      ],
      "execution_count": 52,
      "outputs": [
        {
          "output_type": "stream",
          "text": [
            "Mejor solución: [0, 17, 9, 5, 26, 14, 11, 12, 18, 29, 1, 8, 19, 39, 38, 3, 30, 23, 28, 15, 16, 7, 4, 22, 34, 33, 25, 10, 32, 2, 13, 24, 21, 40, 31, 6, 41, 27, 36, 35, 20, 37]\n",
            "Distancia     : 3923\n"
          ],
          "name": "stdout"
        }
      ]
    },
    {
      "metadata": {
        "id": "ciRLZ4CYnRKX",
        "colab_type": "code",
        "colab": {
          "base_uri": "https://localhost:8080/",
          "height": 71
        },
        "outputId": "b79afe00-5ccd-412d-ae23-e25d5bd15293"
      },
      "cell_type": "code",
      "source": [
        "#Búsqueda local\n",
        "#Generación de vencindad: se basa en intercambiar dos nodos.\n",
        "#Se incializa una variable para contemplar la solucion y las distancias y con un bucle anidado se van intercambiando parejas de nodos\n",
        "\n",
        "\n",
        "def genera_vecina(solucion):\n",
        "  #Generador de soluciones vecinas: 2-opt (intercambiar 2 nodos) Si hay N nodos se generan (N-1)x(N-2)/2 soluciones\n",
        "  #print(solucion)\n",
        "  mejor_solucion = []\n",
        "  mejor_distancia = 10e100\n",
        "  for i in range(1,len(solucion)-1):\n",
        "    for j in range(i+1, len(solucion)):\n",
        "      vecina = solucion[:i] + [solucion[j]] + solucion[i+1:j] + [solucion[i]] + solucion[j+1:] #Dividir la lista en 4 trozos\n",
        "      distancia_vecina = distancia_total(vecina, problem)\n",
        "      if distancia_vecina <= mejor_distancia:\n",
        "        mejor_distancia = distancia_vecina\n",
        "        mejor_solucion = vecina\n",
        "  return mejor_solucion\n",
        "\n",
        "solucion=crear_solucion(Nodos)\n",
        "print (solucion)\n",
        "\n",
        "nueva_solucion=genera_vecina(solucion)\n",
        "print (nueva_solucion)\n",
        "\n"
      ],
      "execution_count": 53,
      "outputs": [
        {
          "output_type": "stream",
          "text": [
            "[0, 9, 41, 25, 13, 19, 10, 2, 11, 29, 33, 28, 21, 36, 23, 24, 6, 35, 26, 14, 7, 1, 39, 3, 17, 40, 31, 12, 4, 18, 27, 32, 22, 16, 8, 34, 37, 5, 15, 20, 38, 30]\n",
            "[0, 9, 41, 25, 13, 19, 10, 2, 11, 29, 33, 28, 21, 40, 23, 24, 6, 35, 26, 14, 7, 1, 39, 3, 17, 36, 31, 12, 4, 18, 27, 32, 22, 16, 8, 34, 37, 5, 15, 20, 38, 30]\n"
          ],
          "name": "stdout"
        }
      ]
    },
    {
      "metadata": {
        "id": "HA9om9K6Ag6B",
        "colab_type": "code",
        "colab": {
          "base_uri": "https://localhost:8080/",
          "height": 785
        },
        "outputId": "4a5d54a1-df08-43e9-e72d-564057db0e06"
      },
      "cell_type": "code",
      "source": [
        "def busqueda_local(problem,N):\n",
        "  mejor_solucion=[]\n",
        "  mejor_distancia = 10e100\n",
        "  \n",
        "  solucion_referencia=crear_solucion(Nodos)\n",
        "  \n",
        "  for i in range(N):\n",
        "    vecina=genera_vecina(solucion_referencia)\n",
        "    distancia_vecina=distancia_total(vecina,problem)\n",
        "    \n",
        "    if distancia_vecina<=mejor_distancia:\n",
        "      mejor_solucion=vecina\n",
        "      mejor_distancia=distancia_vecina\n",
        "    solucion_referencia=vecina\n",
        "    \n",
        "  print ('La mejor solucion encontrada es' , end='')\n",
        "  print (mejor_solucion)\n",
        "  print ('con una distancia total de ' , end='')\n",
        "  print (mejor_distancia)\n",
        "  return mejor_solucion\n",
        "\n",
        "\n",
        "busqueda_local(problem,100)"
      ],
      "execution_count": 59,
      "outputs": [
        {
          "output_type": "stream",
          "text": [
            "La mejor solucion encontrada es[0, 30, 38, 22, 24, 40, 35, 36, 37, 1, 4, 12, 11, 25, 10, 21, 39, 34, 33, 20, 9, 23, 41, 8, 29, 28, 2, 27, 3, 15, 16, 14, 19, 13, 18, 26, 5, 6, 7, 17, 31, 32]\n",
            "con una distancia total de 2103\n"
          ],
          "name": "stdout"
        },
        {
          "output_type": "execute_result",
          "data": {
            "text/plain": [
              "[0,\n",
              " 30,\n",
              " 38,\n",
              " 22,\n",
              " 24,\n",
              " 40,\n",
              " 35,\n",
              " 36,\n",
              " 37,\n",
              " 1,\n",
              " 4,\n",
              " 12,\n",
              " 11,\n",
              " 25,\n",
              " 10,\n",
              " 21,\n",
              " 39,\n",
              " 34,\n",
              " 33,\n",
              " 20,\n",
              " 9,\n",
              " 23,\n",
              " 41,\n",
              " 8,\n",
              " 29,\n",
              " 28,\n",
              " 2,\n",
              " 27,\n",
              " 3,\n",
              " 15,\n",
              " 16,\n",
              " 14,\n",
              " 19,\n",
              " 13,\n",
              " 18,\n",
              " 26,\n",
              " 5,\n",
              " 6,\n",
              " 7,\n",
              " 17,\n",
              " 31,\n",
              " 32]"
            ]
          },
          "metadata": {
            "tags": []
          },
          "execution_count": 59
        }
      ]
    },
    {
      "metadata": {
        "id": "HxYbJxgBpi9s",
        "colab_type": "code",
        "colab": {}
      },
      "cell_type": "code",
      "source": [
        "#Recocido simulado permite escapar de mínimos locales\n",
        "def genera_vecina_aleatorio(solucion):\n",
        "  #Generador de 1 solucion vecina 2-opt (intercambiar 2 nodos)\n",
        "  #Se puede mejorar haciendo que la elección no sea uniforme sino entre las que estén más proximas\n",
        "  #Crea cualquier solución vecina\n",
        "  i = random.choice(range(1, len(solucion)))\n",
        "  j = random.choice(list(set(range(1, len(solucion))) - {i}))\n",
        "  vecina = solucion[:i] + [solucion[j]] + solucion[i+1:j] + [solucion[i]] + solucion[j+1:]\n",
        "  return vecina\n",
        "\n",
        "#Funcion que depende de la temperatura y de la distancia entre dos soluciones\n",
        "def probabilidad (T,d):\n",
        "  r=random.random()\n",
        "  if(r <= (e**(-1*d)/(T*1.0))):\n",
        "     return True\n",
        "  else:\n",
        "     return False\n",
        "    \n",
        "def bajar_temperatura(T):\n",
        "  return T-1\n",
        "\n"
      ],
      "execution_count": 0,
      "outputs": []
    },
    {
      "metadata": {
        "id": "HSKQmSLuI8Uc",
        "colab_type": "code",
        "colab": {
          "base_uri": "https://localhost:8080/",
          "height": 71
        },
        "outputId": "b06b225c-3d54-44cd-83d8-38c65d29c1a2"
      },
      "cell_type": "code",
      "source": [
        "def recocido_simulado(problem, temperatura):\n",
        "  solucion_referencia=crear_solucion(Nodos)\n",
        "  distancia_referencia=distancia_total(solucion_referencia,problem)\n",
        "  \n",
        "  mejor_solucion=[]\n",
        "  mejor_distancia = 10e100\n",
        "  \n",
        "  #Criterio de parada\n",
        "  while temperatura > 0:\n",
        "    #Genera una solución vecina aleatoria\n",
        "    vecina=genera_vecina_aleatorio(solucion_referencia)\n",
        "    distancia_vecina=distancia_total(vecina,problem)\n",
        "    \n",
        "    #Si es la mejor solución de todas se guarda\n",
        "    if distancia_vecina <= mejor_distancia:\n",
        "      mejor_solucion=vecina\n",
        "      mejor_distancia=distancia_vecina\n",
        "     \n",
        "    #Si la distancia de la nueva vecina es menor que la distancia de referencia pasa a ser nuestra distancia de referencia, si esto no ocurre también se puede cambiar\n",
        "    #la solución de referencia a una solución vecina que es peor pero con una probabilidad que hemos definido\n",
        "    if distancia_vecina < distancia_referencia or probabilidad(temperatura,abs(distancia_referencia-distancia_vecina) ):\n",
        "      solucion_referencia=vecina\n",
        "      distancia_referencia=distancia_vecina\n",
        "      \n",
        "    temperatura=bajar_temperatura(temperatura)\n",
        "    \n",
        "  print ('La mejor solucion encontrada es' , end='')\n",
        "  print (mejor_solucion)\n",
        "  print ('con una distancia total de ' , end='')\n",
        "  print (mejor_distancia)\n",
        "  return mejor_solucion\n",
        "\n",
        "sol=recocido_simulado(problem,10000)\n",
        "    \n",
        "    \n",
        "      \n",
        "      \n",
        "    \n",
        "  "
      ],
      "execution_count": 73,
      "outputs": [
        {
          "output_type": "stream",
          "text": [
            "La mejor solucion encontrada es[0, 1, 19, 13, 4, 2, 27, 3, 6, 14, 16, 15, 37, 7, 28, 30, 38, 22, 39, 21, 40, 24, 33, 35, 36, 31, 17, 5, 26, 18, 10, 41, 23, 9, 9, 8, 8, 25, 11, 12, 29, 34, 20, 32]\n",
            "con una distancia total de 1843\n"
          ],
          "name": "stdout"
        }
      ]
    },
    {
      "metadata": {
        "id": "BoiIARVNNylQ",
        "colab_type": "code",
        "colab": {}
      },
      "cell_type": "code",
      "source": [
        "#Colonia de hormigas: funciones auxiliares\n",
        "def add_nodo(problem, H,T):\n",
        "  #A partir de una solución h, añadir en cada paso un nodo más. Habría que hacerlo en base a la feromona t y en base a la distancia más cercana\n",
        "  #de los nodos que me queden por recorrer\n",
        "  Nodos=list(problem.get_nodes())\n",
        "  return random.choice(list(set(range(1,len(Nodos)))-set(H)))\n",
        "\n",
        "def incrementa_feromona(problem,T,H):\n",
        "  #Recorrer trayectoria H y para cada una de las aristas, guardar una cantidad que es inversamente proporcional a la distancia que nos da esa solucion\n",
        "  for i in range(len(H)-1):\n",
        "    T[H[i]][H[i+1]] += 1000/distancia_total(H, problem)\n",
        "  return T\n",
        "\n",
        "def evaporar_feromonas(T):\n",
        "  #reduces las feromonas en 0.3\n",
        "  T=[[max(T[i][j] - 0.3, 1) for i in range(len(Nodos))] for j in range (len(Nodos))]\n",
        "  return T\n",
        "\n"
      ],
      "execution_count": 0,
      "outputs": []
    },
    {
      "metadata": {
        "id": "pDQ3-V7cNCz6",
        "colab_type": "code",
        "colab": {}
      },
      "cell_type": "code",
      "source": [
        "#Colonia de hormigas\n",
        "def hormigas(problem,N):\n",
        "  Nodos = list(problem.get_nodes())\n",
        "  Aristas = list(problem.get_edges()) \n",
        "\n",
        "  #Inicializa las aristas con una cantidad inicial de feromonas: 1\n",
        "  T=[[1 for _ in range(len(Nodos))] for _ in range(len(Nodos))]\n",
        "  \n",
        "  #Se generan los agentes que serán estructuras de camino desde 0\n",
        "  Hormiga = [[0] for _ in range(N)]\n",
        "  \n",
        "  #Recorre cada agente construyendo la solución\n",
        "  for h in range(N):\n",
        "    for i in range (len(Nodos)-1):\n",
        "      \n",
        "      #Elige el siguiente nodo\n",
        "      nuevo_nodo=add_nodo(problem, Hormiga[h],T)\n",
        "      Hormiga[h].append(nuevo_nodo)\n",
        "      \n",
        "      #Incrementa feromonas en esa arista\n",
        "      T=incrementa_feromona(problem, T, Hormiga[h])\n",
        "      \n",
        "      #Evapora feromonas\n",
        "      T=evaporar_feromonas(T)\n",
        "      \n",
        "  #Seleccionar el mejor agente\n",
        "  mejor_solucion=[]\n",
        "  mejor_distancia = 10e100\n",
        "  for h in range(N):\n",
        "    distancia_actual=distancia_total(Hormiga[h], problem)\n",
        "    if distancia_actual < mejor_distancia:\n",
        "      mejor_solucion= Hormiga[h]\n",
        "      mejor_distancia=distancia_actual\n",
        "      \n",
        "hormigas(problem,100)\n",
        "  "
      ],
      "execution_count": 0,
      "outputs": []
    },
    {
      "metadata": {
        "id": "lki5N-6FNkdN",
        "colab_type": "code",
        "colab": {
          "base_uri": "https://localhost:8080/",
          "height": 54
        },
        "outputId": "edddbaa6-5947-461d-8d0b-73d84398f3da"
      },
      "cell_type": "code",
      "source": [
        "T=[[1 for _ in range(len(Nodos))] for _ in range(len(Nodos))]\n",
        "\n",
        "print (T)"
      ],
      "execution_count": 76,
      "outputs": [
        {
          "output_type": "stream",
          "text": [
            "[[1, 1, 1, 1, 1, 1, 1, 1, 1, 1, 1, 1, 1, 1, 1, 1, 1, 1, 1, 1, 1, 1, 1, 1, 1, 1, 1, 1, 1, 1, 1, 1, 1, 1, 1, 1, 1, 1, 1, 1, 1, 1], [1, 1, 1, 1, 1, 1, 1, 1, 1, 1, 1, 1, 1, 1, 1, 1, 1, 1, 1, 1, 1, 1, 1, 1, 1, 1, 1, 1, 1, 1, 1, 1, 1, 1, 1, 1, 1, 1, 1, 1, 1, 1], [1, 1, 1, 1, 1, 1, 1, 1, 1, 1, 1, 1, 1, 1, 1, 1, 1, 1, 1, 1, 1, 1, 1, 1, 1, 1, 1, 1, 1, 1, 1, 1, 1, 1, 1, 1, 1, 1, 1, 1, 1, 1], [1, 1, 1, 1, 1, 1, 1, 1, 1, 1, 1, 1, 1, 1, 1, 1, 1, 1, 1, 1, 1, 1, 1, 1, 1, 1, 1, 1, 1, 1, 1, 1, 1, 1, 1, 1, 1, 1, 1, 1, 1, 1], [1, 1, 1, 1, 1, 1, 1, 1, 1, 1, 1, 1, 1, 1, 1, 1, 1, 1, 1, 1, 1, 1, 1, 1, 1, 1, 1, 1, 1, 1, 1, 1, 1, 1, 1, 1, 1, 1, 1, 1, 1, 1], [1, 1, 1, 1, 1, 1, 1, 1, 1, 1, 1, 1, 1, 1, 1, 1, 1, 1, 1, 1, 1, 1, 1, 1, 1, 1, 1, 1, 1, 1, 1, 1, 1, 1, 1, 1, 1, 1, 1, 1, 1, 1], [1, 1, 1, 1, 1, 1, 1, 1, 1, 1, 1, 1, 1, 1, 1, 1, 1, 1, 1, 1, 1, 1, 1, 1, 1, 1, 1, 1, 1, 1, 1, 1, 1, 1, 1, 1, 1, 1, 1, 1, 1, 1], [1, 1, 1, 1, 1, 1, 1, 1, 1, 1, 1, 1, 1, 1, 1, 1, 1, 1, 1, 1, 1, 1, 1, 1, 1, 1, 1, 1, 1, 1, 1, 1, 1, 1, 1, 1, 1, 1, 1, 1, 1, 1], [1, 1, 1, 1, 1, 1, 1, 1, 1, 1, 1, 1, 1, 1, 1, 1, 1, 1, 1, 1, 1, 1, 1, 1, 1, 1, 1, 1, 1, 1, 1, 1, 1, 1, 1, 1, 1, 1, 1, 1, 1, 1], [1, 1, 1, 1, 1, 1, 1, 1, 1, 1, 1, 1, 1, 1, 1, 1, 1, 1, 1, 1, 1, 1, 1, 1, 1, 1, 1, 1, 1, 1, 1, 1, 1, 1, 1, 1, 1, 1, 1, 1, 1, 1], [1, 1, 1, 1, 1, 1, 1, 1, 1, 1, 1, 1, 1, 1, 1, 1, 1, 1, 1, 1, 1, 1, 1, 1, 1, 1, 1, 1, 1, 1, 1, 1, 1, 1, 1, 1, 1, 1, 1, 1, 1, 1], [1, 1, 1, 1, 1, 1, 1, 1, 1, 1, 1, 1, 1, 1, 1, 1, 1, 1, 1, 1, 1, 1, 1, 1, 1, 1, 1, 1, 1, 1, 1, 1, 1, 1, 1, 1, 1, 1, 1, 1, 1, 1], [1, 1, 1, 1, 1, 1, 1, 1, 1, 1, 1, 1, 1, 1, 1, 1, 1, 1, 1, 1, 1, 1, 1, 1, 1, 1, 1, 1, 1, 1, 1, 1, 1, 1, 1, 1, 1, 1, 1, 1, 1, 1], [1, 1, 1, 1, 1, 1, 1, 1, 1, 1, 1, 1, 1, 1, 1, 1, 1, 1, 1, 1, 1, 1, 1, 1, 1, 1, 1, 1, 1, 1, 1, 1, 1, 1, 1, 1, 1, 1, 1, 1, 1, 1], [1, 1, 1, 1, 1, 1, 1, 1, 1, 1, 1, 1, 1, 1, 1, 1, 1, 1, 1, 1, 1, 1, 1, 1, 1, 1, 1, 1, 1, 1, 1, 1, 1, 1, 1, 1, 1, 1, 1, 1, 1, 1], [1, 1, 1, 1, 1, 1, 1, 1, 1, 1, 1, 1, 1, 1, 1, 1, 1, 1, 1, 1, 1, 1, 1, 1, 1, 1, 1, 1, 1, 1, 1, 1, 1, 1, 1, 1, 1, 1, 1, 1, 1, 1], [1, 1, 1, 1, 1, 1, 1, 1, 1, 1, 1, 1, 1, 1, 1, 1, 1, 1, 1, 1, 1, 1, 1, 1, 1, 1, 1, 1, 1, 1, 1, 1, 1, 1, 1, 1, 1, 1, 1, 1, 1, 1], [1, 1, 1, 1, 1, 1, 1, 1, 1, 1, 1, 1, 1, 1, 1, 1, 1, 1, 1, 1, 1, 1, 1, 1, 1, 1, 1, 1, 1, 1, 1, 1, 1, 1, 1, 1, 1, 1, 1, 1, 1, 1], [1, 1, 1, 1, 1, 1, 1, 1, 1, 1, 1, 1, 1, 1, 1, 1, 1, 1, 1, 1, 1, 1, 1, 1, 1, 1, 1, 1, 1, 1, 1, 1, 1, 1, 1, 1, 1, 1, 1, 1, 1, 1], [1, 1, 1, 1, 1, 1, 1, 1, 1, 1, 1, 1, 1, 1, 1, 1, 1, 1, 1, 1, 1, 1, 1, 1, 1, 1, 1, 1, 1, 1, 1, 1, 1, 1, 1, 1, 1, 1, 1, 1, 1, 1], [1, 1, 1, 1, 1, 1, 1, 1, 1, 1, 1, 1, 1, 1, 1, 1, 1, 1, 1, 1, 1, 1, 1, 1, 1, 1, 1, 1, 1, 1, 1, 1, 1, 1, 1, 1, 1, 1, 1, 1, 1, 1], [1, 1, 1, 1, 1, 1, 1, 1, 1, 1, 1, 1, 1, 1, 1, 1, 1, 1, 1, 1, 1, 1, 1, 1, 1, 1, 1, 1, 1, 1, 1, 1, 1, 1, 1, 1, 1, 1, 1, 1, 1, 1], [1, 1, 1, 1, 1, 1, 1, 1, 1, 1, 1, 1, 1, 1, 1, 1, 1, 1, 1, 1, 1, 1, 1, 1, 1, 1, 1, 1, 1, 1, 1, 1, 1, 1, 1, 1, 1, 1, 1, 1, 1, 1], [1, 1, 1, 1, 1, 1, 1, 1, 1, 1, 1, 1, 1, 1, 1, 1, 1, 1, 1, 1, 1, 1, 1, 1, 1, 1, 1, 1, 1, 1, 1, 1, 1, 1, 1, 1, 1, 1, 1, 1, 1, 1], [1, 1, 1, 1, 1, 1, 1, 1, 1, 1, 1, 1, 1, 1, 1, 1, 1, 1, 1, 1, 1, 1, 1, 1, 1, 1, 1, 1, 1, 1, 1, 1, 1, 1, 1, 1, 1, 1, 1, 1, 1, 1], [1, 1, 1, 1, 1, 1, 1, 1, 1, 1, 1, 1, 1, 1, 1, 1, 1, 1, 1, 1, 1, 1, 1, 1, 1, 1, 1, 1, 1, 1, 1, 1, 1, 1, 1, 1, 1, 1, 1, 1, 1, 1], [1, 1, 1, 1, 1, 1, 1, 1, 1, 1, 1, 1, 1, 1, 1, 1, 1, 1, 1, 1, 1, 1, 1, 1, 1, 1, 1, 1, 1, 1, 1, 1, 1, 1, 1, 1, 1, 1, 1, 1, 1, 1], [1, 1, 1, 1, 1, 1, 1, 1, 1, 1, 1, 1, 1, 1, 1, 1, 1, 1, 1, 1, 1, 1, 1, 1, 1, 1, 1, 1, 1, 1, 1, 1, 1, 1, 1, 1, 1, 1, 1, 1, 1, 1], [1, 1, 1, 1, 1, 1, 1, 1, 1, 1, 1, 1, 1, 1, 1, 1, 1, 1, 1, 1, 1, 1, 1, 1, 1, 1, 1, 1, 1, 1, 1, 1, 1, 1, 1, 1, 1, 1, 1, 1, 1, 1], [1, 1, 1, 1, 1, 1, 1, 1, 1, 1, 1, 1, 1, 1, 1, 1, 1, 1, 1, 1, 1, 1, 1, 1, 1, 1, 1, 1, 1, 1, 1, 1, 1, 1, 1, 1, 1, 1, 1, 1, 1, 1], [1, 1, 1, 1, 1, 1, 1, 1, 1, 1, 1, 1, 1, 1, 1, 1, 1, 1, 1, 1, 1, 1, 1, 1, 1, 1, 1, 1, 1, 1, 1, 1, 1, 1, 1, 1, 1, 1, 1, 1, 1, 1], [1, 1, 1, 1, 1, 1, 1, 1, 1, 1, 1, 1, 1, 1, 1, 1, 1, 1, 1, 1, 1, 1, 1, 1, 1, 1, 1, 1, 1, 1, 1, 1, 1, 1, 1, 1, 1, 1, 1, 1, 1, 1], [1, 1, 1, 1, 1, 1, 1, 1, 1, 1, 1, 1, 1, 1, 1, 1, 1, 1, 1, 1, 1, 1, 1, 1, 1, 1, 1, 1, 1, 1, 1, 1, 1, 1, 1, 1, 1, 1, 1, 1, 1, 1], [1, 1, 1, 1, 1, 1, 1, 1, 1, 1, 1, 1, 1, 1, 1, 1, 1, 1, 1, 1, 1, 1, 1, 1, 1, 1, 1, 1, 1, 1, 1, 1, 1, 1, 1, 1, 1, 1, 1, 1, 1, 1], [1, 1, 1, 1, 1, 1, 1, 1, 1, 1, 1, 1, 1, 1, 1, 1, 1, 1, 1, 1, 1, 1, 1, 1, 1, 1, 1, 1, 1, 1, 1, 1, 1, 1, 1, 1, 1, 1, 1, 1, 1, 1], [1, 1, 1, 1, 1, 1, 1, 1, 1, 1, 1, 1, 1, 1, 1, 1, 1, 1, 1, 1, 1, 1, 1, 1, 1, 1, 1, 1, 1, 1, 1, 1, 1, 1, 1, 1, 1, 1, 1, 1, 1, 1], [1, 1, 1, 1, 1, 1, 1, 1, 1, 1, 1, 1, 1, 1, 1, 1, 1, 1, 1, 1, 1, 1, 1, 1, 1, 1, 1, 1, 1, 1, 1, 1, 1, 1, 1, 1, 1, 1, 1, 1, 1, 1], [1, 1, 1, 1, 1, 1, 1, 1, 1, 1, 1, 1, 1, 1, 1, 1, 1, 1, 1, 1, 1, 1, 1, 1, 1, 1, 1, 1, 1, 1, 1, 1, 1, 1, 1, 1, 1, 1, 1, 1, 1, 1], [1, 1, 1, 1, 1, 1, 1, 1, 1, 1, 1, 1, 1, 1, 1, 1, 1, 1, 1, 1, 1, 1, 1, 1, 1, 1, 1, 1, 1, 1, 1, 1, 1, 1, 1, 1, 1, 1, 1, 1, 1, 1], [1, 1, 1, 1, 1, 1, 1, 1, 1, 1, 1, 1, 1, 1, 1, 1, 1, 1, 1, 1, 1, 1, 1, 1, 1, 1, 1, 1, 1, 1, 1, 1, 1, 1, 1, 1, 1, 1, 1, 1, 1, 1], [1, 1, 1, 1, 1, 1, 1, 1, 1, 1, 1, 1, 1, 1, 1, 1, 1, 1, 1, 1, 1, 1, 1, 1, 1, 1, 1, 1, 1, 1, 1, 1, 1, 1, 1, 1, 1, 1, 1, 1, 1, 1], [1, 1, 1, 1, 1, 1, 1, 1, 1, 1, 1, 1, 1, 1, 1, 1, 1, 1, 1, 1, 1, 1, 1, 1, 1, 1, 1, 1, 1, 1, 1, 1, 1, 1, 1, 1, 1, 1, 1, 1, 1, 1]]\n"
          ],
          "name": "stdout"
        }
      ]
    },
    {
      "metadata": {
        "id": "7wHQUHxEHaXA",
        "colab_type": "code",
        "colab": {
          "base_uri": "https://localhost:8080/",
          "height": 34
        },
        "outputId": "5e247bdc-c942-46f5-a32a-66dd61c08b9b"
      },
      "cell_type": "code",
      "source": [
        "print (random.choice(range(1, len(solucion))))"
      ],
      "execution_count": 61,
      "outputs": [
        {
          "output_type": "stream",
          "text": [
            "37\n"
          ],
          "name": "stdout"
        }
      ]
    },
    {
      "metadata": {
        "id": "GLTzxZQPH5IO",
        "colab_type": "code",
        "colab": {
          "base_uri": "https://localhost:8080/",
          "height": 34
        },
        "outputId": "e4ecea1c-d32b-4404-a145-480e3390d483"
      },
      "cell_type": "code",
      "source": [
        "print (solucion[24])"
      ],
      "execution_count": 64,
      "outputs": [
        {
          "output_type": "stream",
          "text": [
            "17\n"
          ],
          "name": "stdout"
        }
      ]
    }
  ]
}