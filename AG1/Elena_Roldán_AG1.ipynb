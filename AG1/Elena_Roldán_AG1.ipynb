{
  "nbformat": 4,
  "nbformat_minor": 0,
  "metadata": {
    "colab": {
      "name": "Elena Roldán-AG1.ipynb",
      "version": "0.3.2",
      "provenance": [],
      "include_colab_link": true
    },
    "kernelspec": {
      "name": "python3",
      "display_name": "Python 3"
    }
  },
  "cells": [
    {
      "cell_type": "markdown",
      "metadata": {
        "id": "view-in-github",
        "colab_type": "text"
      },
      "source": [
        "<a href=\"https://colab.research.google.com/github/elenrol02/03MAIR-Algoritmos-de-optimizacion/blob/master/AG1/Elena_Rold%C3%A1n_AG1.ipynb\" target=\"_parent\"><img src=\"https://colab.research.google.com/assets/colab-badge.svg\" alt=\"Open In Colab\"/></a>"
      ]
    },
    {
      "metadata": {
        "id": "Ug6e7PumZMmh",
        "colab_type": "text"
      },
      "cell_type": "markdown",
      "source": [
        "AG1 - ACTIVIDAD GUIADA 1\n",
        "\n",
        "Elena Roldán Del Cerro\n",
        "\n",
        "URL: https://github.com/elenrol02/03MAIR-Algoritmos-de-optimizacion/tree/master/AG1"
      ]
    },
    {
      "metadata": {
        "id": "QCRoFYyhzQ9E",
        "colab_type": "code",
        "colab": {}
      },
      "cell_type": "code",
      "source": [
        "#Decorador para calcular_tiempo a la función para la cual queremos calcular el tiempo de ejecución\n",
        "\n",
        "from time import time\n",
        "#Función para calcular el tiempo de ejecución\n",
        "def calcular_tiempo(f):\n",
        "   \n",
        "    def wrapper(*args, **kwargs):       \n",
        "        inicio = time()       \n",
        "        resultado = f(*args, **kwargs)       \n",
        "        tiempo = time() - inicio\n",
        "        print(\"Tiempo de ejecución para algoritmo: \"+str(tiempo))\n",
        "        return resultado\n",
        "    \n",
        "    return wrapper\n",
        "from time import time"
      ],
      "execution_count": 0,
      "outputs": []
    },
    {
      "metadata": {
        "id": "xobUU1RYcAmL",
        "colab_type": "code",
        "outputId": "748c1470-1136-49d8-a39d-124a33ebcef2",
        "colab": {
          "base_uri": "https://localhost:8080/",
          "height": 51
        }
      },
      "cell_type": "code",
      "source": [
        "#Problema de ordenación por quick sort\n",
        "\n",
        "A = [9187, 244, 4054, 9222, 8373, 4993, 5265, 5470, 4519, 7182, 2035, 3506, 4337, 7580, 2554, 2824, 8357, 4447, 7379]\n",
        "\n",
        "def quick_sort(A):\n",
        "  if len(A)==1:\n",
        "    return A\n",
        "  if len(A)==2:#Ordenar una lista de tamaño 2\n",
        "    return [min(A),max(A)]\n",
        "  \n",
        "  IZQ=[]\n",
        "  DER=[]\n",
        "  \n",
        "  pivote = (A[0]+A[1]+A[2])/3\n",
        "  #pivote =sum(A)/len(A)\n",
        "  \n",
        "  for i in A:\n",
        "    if i<=pivote :\n",
        "      IZQ.append(i)\n",
        "    else:\n",
        "      DER.append(i)\n",
        "  return quick_sort(IZQ)+quick_sort(DER)\n",
        "\n",
        "@calcular_tiempo\n",
        "def QS(A):\n",
        "  return quick_sort(A)\n",
        "print (QS(A))\n",
        "\n"
      ],
      "execution_count": 5,
      "outputs": [
        {
          "output_type": "stream",
          "text": [
            "Tiempo de ejecución para algoritmo: 3.600120544433594e-05\n",
            "[244, 2035, 2554, 2824, 3506, 4054, 4337, 4447, 4519, 4993, 5265, 5470, 7182, 7379, 7580, 8357, 8373, 9187, 9222]\n"
          ],
          "name": "stdout"
        }
      ]
    },
    {
      "metadata": {
        "id": "9YLf2_JbjVMi",
        "colab_type": "code",
        "outputId": "b74cf8e1-24e5-41c5-c394-0f25f9988a6c",
        "colab": {
          "base_uri": "https://localhost:8080/",
          "height": 34
        }
      },
      "cell_type": "code",
      "source": [
        "#Problema cambio de monedas-Algoritmo voraz\n",
        "\n",
        "\n",
        "sistema=[25,10,5,1]\n",
        "def cambio_monedas(C,sistema):\n",
        "  solucion=[0 for i in range(len(sistema))] #Solución es un array con todos los elementos a 0 inicialmente\n",
        "  \n",
        "  valor_acumulado=0\n",
        "  \n",
        "  for i in range(len(sistema)):\n",
        "    monedas=int((C-valor_acumulado)/sistema[i])\n",
        "    solucion[i]=monedas\n",
        "    \n",
        "    valor_acumulado+=monedas*sistema[i]\n",
        "    \n",
        "    if C==valor_acumulado:\n",
        "      return solucion\n",
        "  \n",
        "cambio_monedas(99,sistema)"
      ],
      "execution_count": 6,
      "outputs": [
        {
          "output_type": "execute_result",
          "data": {
            "text/plain": [
              "[3, 2, 0, 4]"
            ]
          },
          "metadata": {
            "tags": []
          },
          "execution_count": 6
        }
      ]
    },
    {
      "metadata": {
        "id": "hiBWvLw8nRH_",
        "colab_type": "code",
        "colab": {}
      },
      "cell_type": "code",
      "source": [
        "#Problema de las 4 reinas-Algoritmo con la técnica vuelta atrás\n",
        "numero_reinas=4\n",
        "etapa=0\n",
        "solucion=[0 for i in range(numero_reinas)]\n",
        "\n",
        "def reinas(numero_reinas, solucion,etapa):\n",
        "  \n",
        "  for i in range (1,numero_reinas):\n",
        "    solucion[etapa]=i\n",
        "    \n",
        "    \n",
        "    if es_prometedora(solucion,etapa):\n",
        "      if etapa==numero_reinas-1:\n",
        "        print ('\\n\\nLa solucion es:')\n",
        "        print (solucion)\n",
        "      else:\n",
        "        reinas(numero_reinas,solucion,etapa+1)\n",
        "    else:\n",
        "      None\n",
        "    solucion[etapa]=0\n",
        "\n",
        "def es_prometedora(solucion,etapa):\n",
        "  #Comprueba que no hay reinas en la misma fila\n",
        "  for i in range(etapa+1):\n",
        "    if solucion.count(solucion[i])>1:\n",
        "      return False\n",
        "    \n",
        "    #comprobar las diagonales\n",
        "    for j in range(i+1,etapa+1):\n",
        "      if abs(i-j)==abs(solucion[i]-solucion[j]):\n",
        "        return False\n",
        "  return True\n",
        "   "
      ],
      "execution_count": 0,
      "outputs": []
    },
    {
      "metadata": {
        "colab_type": "code",
        "id": "EvZ3w7Rg3G9y",
        "colab": {
          "base_uri": "https://localhost:8080/",
          "height": 85
        },
        "outputId": "4527bc04-d01f-4358-c31b-2e2cf1363339"
      },
      "cell_type": "code",
      "source": [
        "reinas(4,[2,4,0,0],2)"
      ],
      "execution_count": 22,
      "outputs": [
        {
          "output_type": "stream",
          "text": [
            "\n",
            "\n",
            "La solucion es:\n",
            "[2, 4, 1, 3]\n"
          ],
          "name": "stdout"
        }
      ]
    }
  ]
}