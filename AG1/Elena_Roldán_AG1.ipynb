{
  "nbformat": 4,
  "nbformat_minor": 0,
  "metadata": {
    "colab": {
      "name": "Elena Roldán-AG1.ipynb",
      "version": "0.3.2",
      "provenance": [],
      "include_colab_link": true
    },
    "kernelspec": {
      "name": "python3",
      "display_name": "Python 3"
    }
  },
  "cells": [
    {
      "cell_type": "markdown",
      "metadata": {
        "id": "view-in-github",
        "colab_type": "text"
      },
      "source": [
        "<a href=\"https://colab.research.google.com/github/elenrol02/03MAIR-Algoritmos-de-optimizacion/blob/master/AG1/Elena_Rold%C3%A1n_AG1.ipynb\" target=\"_parent\"><img src=\"https://colab.research.google.com/assets/colab-badge.svg\" alt=\"Open In Colab\"/></a>"
      ]
    },
    {
      "metadata": {
        "id": "l05y9SoQZBQF",
        "colab_type": "code",
        "colab": {}
      },
      "cell_type": "code",
      "source": [
        ""
      ],
      "execution_count": 0,
      "outputs": []
    },
    {
      "metadata": {
        "id": "Ug6e7PumZMmh",
        "colab_type": "text"
      },
      "cell_type": "markdown",
      "source": [
        "AG1 - ACTIVIDAD GUIADA 1\n",
        "\n",
        "Elena Roldán Del Cerro\n",
        "\n",
        "URL: https://github.com/elenrol02/03MAIR-Algoritmos-de-optimizacion/tree/master/AG1"
      ]
    },
    {
      "metadata": {
        "id": "xobUU1RYcAmL",
        "colab_type": "code",
        "colab": {
          "base_uri": "https://localhost:8080/",
          "height": 34
        },
        "outputId": "34ff69ad-7d46-460b-8d97-d79798aacf6c"
      },
      "cell_type": "code",
      "source": [
        "#quick sort\n",
        "\n",
        "A = [9187, 244, 4054, 9222, 8373, 4993, 5265, 5470, 4519, 7182, 2035, 3506, 4337, 7580, 2554, 2824, 8357, 4447, 7379]\n",
        "\n",
        "def quick_sort(A):\n",
        "  if len(A)==1:\n",
        "    return A\n",
        "  if len(A)==2:#Ordenar una lista de tamaño 2\n",
        "    return [min(A),max(A)]\n",
        "  \n",
        "  IZQ=[]\n",
        "  DER=[]\n",
        "  \n",
        "  pivote = (A[0]+A[1]+A[2])/3\n",
        "  \n",
        "  for i in A:\n",
        "    if i<=pivote :\n",
        "      IZQ.append(i)\n",
        "    else:\n",
        "      DER.append(i)\n",
        "      \n",
        "  return quick_sort(IZQ) + quick_sort(DER)\n",
        "#  @calcular_tiempo\n",
        " # def QS():\n",
        "  #  return quick_sort(A)\n",
        "  #print (QS(A))\n",
        "quick_sort(A)"
      ],
      "execution_count": 16,
      "outputs": [
        {
          "output_type": "execute_result",
          "data": {
            "text/plain": [
              "4495.0"
            ]
          },
          "metadata": {
            "tags": []
          },
          "execution_count": 16
        }
      ]
    },
    {
      "metadata": {
        "id": "qWrJI6Fff35t",
        "colab_type": "code",
        "colab": {
          "base_uri": "https://localhost:8080/",
          "height": 129
        },
        "outputId": "6dbfde3b-6792-40be-b33b-bd841e118abc"
      },
      "cell_type": "code",
      "source": [
        "#Decorador para calcular_tiempo a la función para la cual queremos calcular el tiempo de ejecución(Isabel Vázquez)\n",
        "\n",
        "from time import time\n",
        "#Función para calcular el tiempo de ejecución\n",
        "def calcular_tiempo(f\n",
        "   \n",
        "    def wrapper(*args, **kwargs        \n",
        "        inicio = time()       \n",
        "        resultado = f(*args, **kwargs)       \n",
        "        tiempo = time() - inicio\n",
        "        print(\"Tiempo de ejecución para algoritmo: \"+str(tiempo))\n",
        "        return resultado\n",
        "    \n",
        "    return wrapper\n",
        "from time import time"
      ],
      "execution_count": 2,
      "outputs": [
        {
          "output_type": "error",
          "ename": "SyntaxError",
          "evalue": "ignored",
          "traceback": [
            "\u001b[0;36m  File \u001b[0;32m\"<ipython-input-2-655426186547>\"\u001b[0;36m, line \u001b[0;32m6\u001b[0m\n\u001b[0;31m    def wrapper(*args, **kwargs\u001b[0m\n\u001b[0m      ^\u001b[0m\n\u001b[0;31mSyntaxError\u001b[0m\u001b[0;31m:\u001b[0m invalid syntax\n"
          ]
        }
      ]
    },
    {
      "metadata": {
        "id": "9YLf2_JbjVMi",
        "colab_type": "code",
        "colab": {
          "base_uri": "https://localhost:8080/",
          "height": 34
        },
        "outputId": "a11cc71a-4a1c-4f3c-df11-3161ea5c8655"
      },
      "cell_type": "code",
      "source": [
        "sistema=[25,10,5,1]\n",
        "def cambio_monedas(C,sistema):\n",
        "  solucion=[0 for i in range(len(sistema))]\n",
        "  \n",
        "  valor_acumulado=0\n",
        "  \n",
        "  for i in range(len(sistema)):\n",
        "    monedas=int((C-valor_acumulado)/sistema[i])\n",
        "    solucion[i]=monedas\n",
        "    \n",
        "    valor_acumulado+=monedas*sistema[i]\n",
        "    \n",
        "    if C==valor_acumulado:\n",
        "      return solucion\n",
        "  \n",
        "cambio_monedas(99,sistema)"
      ],
      "execution_count": 14,
      "outputs": [
        {
          "output_type": "execute_result",
          "data": {
            "text/plain": [
              "[3, 2, 0, 4]"
            ]
          },
          "metadata": {
            "tags": []
          },
          "execution_count": 14
        }
      ]
    },
    {
      "metadata": {
        "id": "hiBWvLw8nRH_",
        "colab_type": "code",
        "colab": {}
      },
      "cell_type": "code",
      "source": [
        "N=4\n",
        "\n",
        "solucion = [0 for i in range(N)] #inicializar a 0 todos los valores de la tupla\n",
        "\n",
        "etapa=0\n",
        "\n",
        "def reinas(N, solucion, etapa):\n",
        "  \n",
        "  \n",
        "  if es_prometedora(solucion,etapa):\n",
        "    if etapa == N-1 :\n",
        "      print (solucion):\n",
        "    else:\n",
        "      reinas(N, solucion, etapa)"
      ],
      "execution_count": 0,
      "outputs": []
    }
  ]
}