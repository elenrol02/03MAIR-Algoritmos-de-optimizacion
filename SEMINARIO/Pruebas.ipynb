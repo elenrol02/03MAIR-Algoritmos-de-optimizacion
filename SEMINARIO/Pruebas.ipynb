{
  "nbformat": 4,
  "nbformat_minor": 0,
  "metadata": {
    "colab": {
      "name": "Pruebas.ipynb",
      "version": "0.3.2",
      "provenance": [],
      "include_colab_link": true
    },
    "kernelspec": {
      "name": "python3",
      "display_name": "Python 3"
    }
  },
  "cells": [
    {
      "cell_type": "markdown",
      "metadata": {
        "id": "view-in-github",
        "colab_type": "text"
      },
      "source": [
        "<a href=\"https://colab.research.google.com/github/elenrol02/03MAIR-Algoritmos-de-optimizacion/blob/master/SEMINARIO/Pruebas.ipynb\" target=\"_parent\"><img src=\"https://colab.research.google.com/assets/colab-badge.svg\" alt=\"Open In Colab\"/></a>"
      ]
    },
    {
      "metadata": {
        "id": "mSoa804lxhVq",
        "colab_type": "code",
        "colab": {}
      },
      "cell_type": "code",
      "source": [
        "#calcula las permutaciones de los elementos de lista tomados de n en n. De esta forma calcula todos las posibles combinaciones de elementos sin repetir.\n",
        "\n",
        "import itertools\n",
        "\n",
        "def permutaciones(inicio,n):\n",
        "  return list(itertools.permutations([1, 2, 3,4,5,6,7,8,9],5))#aqui tengo todas las combinaciones de valores"
      ],
      "execution_count": 0,
      "outputs": []
    },
    {
      "metadata": {
        "id": "WqOvbsDGyMjb",
        "colab_type": "code",
        "colab": {}
      },
      "cell_type": "code",
      "source": [
        "#Cálculo de la solución por fuerza bruta. Se introduce la lista inicial y el número que se quiere obtener como resultado y devuelve una solución (puede haber más de una)\n",
        "\n",
        "def calcular(inicio,numero):\n",
        "  lista=permutaciones(inicio,5) \n",
        "  mejor_solucion=[]\n",
        "  for x in range (len(lista)):\n",
        "    for i in range(len(lista[x])):\n",
        "      for j in range(i+1,len(lista[x])):\n",
        "        for k in range(j+1,len(lista[x])):\n",
        "          for l in range (k+1,len(lista[x])):\n",
        "            for m in range (l+1,len(lista[x])):\n",
        "              resultado=eval(str(lista[x][i]+lista[x][j]-lista[x][k]/lista[x][l]*lista[x][m]))\n",
        "              if resultado==numero:\n",
        "                mejor_solucion=(lista[x][i],lista[x][j],lista[x][k],lista[x][l],lista[x][m])\n",
        "  return mejor_solucion"
      ],
      "execution_count": 0,
      "outputs": []
    },
    {
      "metadata": {
        "id": "uYfJeMowzOXZ",
        "colab_type": "code",
        "colab": {
          "base_uri": "https://localhost:8080/",
          "height": 34
        },
        "outputId": "87b42d22-574f-4f0c-a62a-886dc811d8c7"
      },
      "cell_type": "code",
      "source": [
        "calcular(numeros,6)"
      ],
      "execution_count": 82,
      "outputs": [
        {
          "output_type": "execute_result",
          "data": {
            "text/plain": [
              "(9, 7, 8, 4, 5)"
            ]
          },
          "metadata": {
            "tags": []
          },
          "execution_count": 82
        }
      ]
    },
    {
      "metadata": {
        "id": "DUm9zq7w7Efv",
        "colab_type": "code",
        "colab": {
          "base_uri": "https://localhost:8080/",
          "height": 34
        },
        "outputId": "5842a15b-bdf9-4fa0-8ada-314075e3c338"
      },
      "cell_type": "code",
      "source": [
        "#Quiero obtener todos los numeros enteros posibles que se pueden calcular\n",
        "calculo=[]\n",
        "for i in range(1,33):\n",
        "  res=calcular(lista,i)\n",
        "  if len(res)>0:\n",
        "    calculo.append(i)\n",
        "  else:\n",
        "    calculo.append(0)\n",
        "print (calculo)"
      ],
      "execution_count": 83,
      "outputs": [
        {
          "output_type": "stream",
          "text": [
            "[1, 2, 3, 4, 5, 6, 7, 8, 9, 10, 11, 12, 13, 14, 15, 16, 0, 0, 0, 0, 0, 0, 0, 0, 0, 0, 0, 0, 0, 0, 0, 0]\n"
          ],
          "name": "stdout"
        }
      ]
    },
    {
      "metadata": {
        "id": "htaUYs1roi3b",
        "colab_type": "code",
        "colab": {}
      },
      "cell_type": "code",
      "source": [
        "#Buscar los valores que pueden tomar C y D para que la division entera\n",
        "#Por fuerza bruta\n",
        "def division_entera (inicio):\n",
        "  lista=permutaciones(inicio,5) \n",
        "  posibles_valores=[]\n",
        "  divide=[]\n",
        "  for x in range (len(lista)):\n",
        "    for i in range(len(lista[x])):\n",
        "      for j in range(i+1,len(lista[x])):\n",
        "        if lista[x][i]%lista[x][j]==0:\n",
        "          if (lista[x][i],lista[x][j]) not in posibles_valores :\n",
        "            posibles_valores.append((lista[x][i],lista[x][j]))\n",
        "            if (lista[x][i]/lista[x][j]) not in divide:\n",
        "              divide.append(int(lista[x][i]/lista[x][j]))\n",
        "            \n",
        "  return divide\n",
        "\n",
        "  "
      ],
      "execution_count": 0,
      "outputs": []
    },
    {
      "metadata": {
        "id": "_fsOd-D6pQru",
        "colab_type": "code",
        "colab": {
          "base_uri": "https://localhost:8080/",
          "height": 34
        },
        "outputId": "7030cbb1-64cd-454d-bde2-6aef997761ed"
      },
      "cell_type": "code",
      "source": [
        "division_entera(numeros)"
      ],
      "execution_count": 67,
      "outputs": [
        {
          "output_type": "execute_result",
          "data": {
            "text/plain": [
              "[2, 3, 4, 5, 6, 7, 8, 9]"
            ]
          },
          "metadata": {
            "tags": []
          },
          "execution_count": 67
        }
      ]
    },
    {
      "metadata": {
        "id": "91DzmC8LnBds",
        "colab_type": "code",
        "colab": {}
      },
      "cell_type": "code",
      "source": [
        "#Búsqueda aleatoria\n",
        "#Crear solucion aleatoria:\n",
        "import random\n",
        "def crear_solucion(numeros):\n",
        "  solucion=[]\n",
        "  for i in range(len(numeros)-1):\n",
        "    if len(solucion)<5:\n",
        "      solucion=solucion+[random.choice(list(set(numeros)-set(solucion)))]\n",
        "  return solucion\n"
      ],
      "execution_count": 0,
      "outputs": []
    },
    {
      "metadata": {
        "id": "1EArCJIxoUss",
        "colab_type": "code",
        "colab": {}
      },
      "cell_type": "code",
      "source": [
        "#Busqueda aleatoria\n",
        "\n",
        "def busqueda_aleatoria (numeros, resultado_obtener):\n",
        "  resultado=0\n",
        "\n",
        "  while resultado != resultado_obtener:\n",
        "    solucion=crear_solucion(numeros)\n",
        "    resultado=eval(str(solucion[0]+solucion[1]-solucion[2]*solucion[3]/solucion[4]))\n",
        "  return solucion, resultado"
      ],
      "execution_count": 0,
      "outputs": []
    },
    {
      "metadata": {
        "id": "_0Nt2KXGunV3",
        "colab_type": "code",
        "colab": {
          "base_uri": "https://localhost:8080/",
          "height": 34
        },
        "outputId": "44ee6f62-872f-426d-87b4-589381bce397"
      },
      "cell_type": "code",
      "source": [
        "busqueda_aleatoria(numeros,4.0)"
      ],
      "execution_count": 89,
      "outputs": [
        {
          "output_type": "execute_result",
          "data": {
            "text/plain": [
              "([3, 4, 1, 6, 2], 4.0)"
            ]
          },
          "metadata": {
            "tags": []
          },
          "execution_count": 89
        }
      ]
    }
  ]
}