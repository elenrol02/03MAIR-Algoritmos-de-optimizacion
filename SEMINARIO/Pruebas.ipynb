{
  "nbformat": 4,
  "nbformat_minor": 0,
  "metadata": {
    "colab": {
      "name": "Pruebas.ipynb",
      "version": "0.3.2",
      "provenance": [],
      "include_colab_link": true
    },
    "kernelspec": {
      "name": "python3",
      "display_name": "Python 3"
    }
  },
  "cells": [
    {
      "cell_type": "markdown",
      "metadata": {
        "id": "view-in-github",
        "colab_type": "text"
      },
      "source": [
        "<a href=\"https://colab.research.google.com/github/elenrol02/03MAIR-Algoritmos-de-optimizacion/blob/master/SEMINARIO/Pruebas.ipynb\" target=\"_parent\"><img src=\"https://colab.research.google.com/assets/colab-badge.svg\" alt=\"Open In Colab\"/></a>"
      ]
    },
    {
      "metadata": {
        "id": "dnS11vNKkV9O",
        "colab_type": "code",
        "colab": {}
      },
      "cell_type": "code",
      "source": [
        "numeros=[1,2,3,4,5,6,7,8,9]\n",
        "\n",
        "\n"
      ],
      "execution_count": 0,
      "outputs": []
    },
    {
      "metadata": {
        "id": "WqOvbsDGyMjb",
        "colab_type": "code",
        "colab": {}
      },
      "cell_type": "code",
      "source": [
        "#Cálculo de la solución por fuerza bruta. Se introduce la lista inicial y el número que se quiere obtener como resultado\n",
        "\n",
        "def calcular(inicio,numero):\n",
        "  lista=permutaciones(inicio,5) \n",
        "  mejor_solucion=[]\n",
        "  for x in range (len(lista)):\n",
        "    for i in range(len(lista[x])):\n",
        "      for j in range(i+1,len(lista[x])):\n",
        "        for k in range(j+1,len(lista[x])):\n",
        "          for l in range (k+1,len(lista[x])):\n",
        "            for m in range (l+1,len(lista[x])):\n",
        "              resultado=eval(str(lista[x][i]+lista[x][j]-lista[x][k]/lista[x][l]*lista[x][m]))\n",
        "              if resultado==numero:\n",
        "                #numero_1=\n",
        "                mejor_solucion.append([lista[x][i],lista[x][j],lista[x][k],lista[x][l],lista[x][m]])\n",
        "  return mejor_solucion"
      ],
      "execution_count": 0,
      "outputs": []
    },
    {
      "metadata": {
        "id": "uYfJeMowzOXZ",
        "colab_type": "code",
        "colab": {
          "base_uri": "https://localhost:8080/",
          "height": 34
        },
        "outputId": "e566ca8d-89a0-453b-afde-c95fc2454cfd"
      },
      "cell_type": "code",
      "source": [
        "calcular(numeros,33)"
      ],
      "execution_count": 349,
      "outputs": [
        {
          "output_type": "execute_result",
          "data": {
            "text/plain": [
              "[]"
            ]
          },
          "metadata": {
            "tags": []
          },
          "execution_count": 349
        }
      ]
    },
    {
      "metadata": {
        "id": "s5W3mmOnyR9H",
        "colab_type": "code",
        "colab": {}
      },
      "cell_type": "code",
      "source": [
        "import itertools\n",
        "  #calcula las permutaciones de los elementos de lista tomados de n en n\n",
        "\n",
        "def permutaciones(inicio,n):\n",
        "  return list(itertools.permutations([1, 2, 3,4,5,6,7,8,9],5))#aqui tengo todas las combinaciones de valores"
      ],
      "execution_count": 0,
      "outputs": []
    },
    {
      "metadata": {
        "id": "DUm9zq7w7Efv",
        "colab_type": "code",
        "colab": {
          "base_uri": "https://localhost:8080/",
          "height": 34
        },
        "outputId": "9ee9b7bc-93d3-44ab-961b-f86ff9838c96"
      },
      "cell_type": "code",
      "source": [
        "#quiero obtener todos los numeros enteros posibles que se pueden calcular\n",
        "calculo=[]\n",
        "for i in range(1,33):\n",
        "  res=calcular(lista,i)\n",
        "  if len(res)>0:\n",
        "    calculo.append(i)\n",
        "  else:\n",
        "    calculo.append(0)\n",
        "print (calculo)"
      ],
      "execution_count": 361,
      "outputs": [
        {
          "output_type": "stream",
          "text": [
            "[1, 2, 3, 4, 5, 6, 7, 8, 9, 10, 11, 12, 13, 14, 15, 16, 0, 0, 0, 0, 0, 0, 0, 0, 0, 0, 0, 0, 0, 0, 0, 0]\n"
          ],
          "name": "stdout"
        }
      ]
    },
    {
      "metadata": {
        "id": "IvnbZ28L85_2",
        "colab_type": "code",
        "colab": {
          "base_uri": "https://localhost:8080/",
          "height": 34
        },
        "outputId": "c0d57a43-7c14-49fa-c0f6-058f66beba59"
      },
      "cell_type": "code",
      "source": [
        "calcular(lista,16)"
      ],
      "execution_count": 370,
      "outputs": [
        {
          "output_type": "execute_result",
          "data": {
            "text/plain": [
              "[[8, 9, 2, 6, 3], [8, 9, 3, 6, 2], [9, 8, 2, 6, 3], [9, 8, 3, 6, 2]]"
            ]
          },
          "metadata": {
            "tags": []
          },
          "execution_count": 370
        }
      ]
    },
    {
      "metadata": {
        "id": "lqrrXmGGxDJD",
        "colab_type": "code",
        "colab": {
          "base_uri": "https://localhost:8080/",
          "height": 34
        },
        "outputId": "cf9624f9-0c68-44b8-94f1-831a08cc5dd6"
      },
      "cell_type": "code",
      "source": [
        "print (eval(str(1+6-2/8*4)))"
      ],
      "execution_count": 326,
      "outputs": [
        {
          "output_type": "stream",
          "text": [
            "6.0\n"
          ],
          "name": "stdout"
        }
      ]
    },
    {
      "metadata": {
        "id": "htaUYs1roi3b",
        "colab_type": "code",
        "colab": {}
      },
      "cell_type": "code",
      "source": [
        "#Buscar los valores que pueden tomar C y D para que la division entera\n",
        "#Por fuerza bruta\n",
        "def division_entera (inicio):\n",
        "  lista=permutaciones(inicio,5) \n",
        "  posibles_valores=[]\n",
        "  divide=[]\n",
        "  for x in range (len(lista)):\n",
        "    for i in range(len(lista[x])):\n",
        "      for j in range(i+1,len(lista[x])):\n",
        "        if lista[x][i]%lista[x][j]==0:\n",
        "          if (lista[x][i],lista[x][j]) not in posibles_valores :\n",
        "            posibles_valores.append((lista[x][i],lista[x][j]))\n",
        "            if (lista[x][i]/lista[x][j]) not in divide:\n",
        "              divide.append(int(lista[x][i]/lista[x][j]))\n",
        "            \n",
        "  return divide\n",
        "\n",
        "  "
      ],
      "execution_count": 0,
      "outputs": []
    },
    {
      "metadata": {
        "id": "_fsOd-D6pQru",
        "colab_type": "code",
        "colab": {
          "base_uri": "https://localhost:8080/",
          "height": 34
        },
        "outputId": "7030cbb1-64cd-454d-bde2-6aef997761ed"
      },
      "cell_type": "code",
      "source": [
        "division_entera(numeros)"
      ],
      "execution_count": 67,
      "outputs": [
        {
          "output_type": "execute_result",
          "data": {
            "text/plain": [
              "[2, 3, 4, 5, 6, 7, 8, 9]"
            ]
          },
          "metadata": {
            "tags": []
          },
          "execution_count": 67
        }
      ]
    },
    {
      "metadata": {
        "id": "JqG37PtFvoJz",
        "colab_type": "code",
        "colab": {}
      },
      "cell_type": "code",
      "source": [
        "def calculo_mejorado(inicio,numero):\n",
        "sol=division_entera(numeros)\n",
        "mejor_solucion=[]\n",
        "  for x in range (len(lista)):\n",
        "    for y in range (len(sol)):\n",
        "      for i in range(len(lista[x])):\n",
        "        for j in range(i+1,len(lista[x])):\n",
        "          for m in range (j+1,len(lista[x])):\n",
        "            resultado=eval(str(lista[x][i]+lista[x][j]-sol[y]*lista[x][m]))\n",
        "            if resultado==numero:\n",
        "              mejor_solucion.append([lista[x][i],lista[x][j],sol[y],lista[x][m]])\n",
        "  return mejor_solucion"
      ],
      "execution_count": 0,
      "outputs": []
    }
  ]
}