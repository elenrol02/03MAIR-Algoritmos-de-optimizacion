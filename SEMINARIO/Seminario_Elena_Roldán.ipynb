{
  "nbformat": 4,
  "nbformat_minor": 0,
  "metadata": {
    "colab": {
      "name": "Seminario_Elena_Roldán.ipynb",
      "version": "0.3.2",
      "provenance": [],
      "include_colab_link": true
    },
    "kernelspec": {
      "name": "python3",
      "display_name": "Python 3"
    }
  },
  "cells": [
    {
      "cell_type": "markdown",
      "metadata": {
        "id": "view-in-github",
        "colab_type": "text"
      },
      "source": [
        "<a href=\"https://colab.research.google.com/github/elenrol02/03MAIR-Algoritmos-de-optimizacion/blob/master/SEMINARIO/Seminario_Elena_Rold%C3%A1n.ipynb\" target=\"_parent\"><img src=\"https://colab.research.google.com/assets/colab-badge.svg\" alt=\"Open In Colab\"/></a>"
      ]
    },
    {
      "metadata": {
        "id": "K0kVXM9d7jQz",
        "colab_type": "text"
      },
      "cell_type": "markdown",
      "source": [
        "# Algoritmos de optimización - Seminario\n",
        "\n",
        "Elena Roldán Del Cerro <br>\n",
        "url: [texto del enlace](https://github.com/elenrol02/03MAIR-Algoritmos-de-optimizacion/tree/master/SEMINARIO) <br>\n",
        "Problema: 3. Combinar cifras y operaciones <br>\n"
      ]
    },
    {
      "metadata": {
        "id": "l8KpEKT78Dk6",
        "colab_type": "text"
      },
      "cell_type": "markdown",
      "source": [
        "**Descripción del problema**: Se disponen de las cifras desde el 1 al 9 y los signos de suma, resta, multiplicación y división. Hay que combinarlos sin repetir ninguno de manera que obtengamos un resultado dado."
      ]
    },
    {
      "metadata": {
        "id": "fQSedEy07f2A",
        "colab_type": "text"
      },
      "cell_type": "markdown",
      "source": [
        "**¿Cuantas posibilidades hay sin tener en cuenta las restricciones?**\n",
        "Las restricciones es que no se repitan ni los números de los signos de las operaciones. Si no se tienen en cuenta las restricciones significa que se pueden repetir los números y las cifras. Por lo que:\n",
        "\n",
        "\n",
        "*   Por una parte, tenemos las 9 cifras combinadas de 5 en 5 y con repeticiones: Tendríamos 9 elevado a 5 = 59.049 posibilidades\n",
        "*   Por otra parte, tenemos los 4 signos combinados de 4 en 4 y con repeticiones: Tendríamos 4 elevado a 4: 256\n",
        "\n",
        "El total de soluciones sería: 59.049*256= 15.116.544\n",
        "\n"
      ]
    },
    {
      "metadata": {
        "id": "7Qe0luHA9y4_",
        "colab_type": "text"
      },
      "cell_type": "markdown",
      "source": [
        "**(*)¿Cuantas posibilidades hay teniendo en cuenta todas las restricciones?** Si tenemos en cuenta las restricciones, no se pueden repetir números ni signos. Para desarrollar el problema, yo he tenido en cuenta que los signos están fijos de forma que lo que varía son las cifras. El total de soluciones serían las permutaciones de 9 elementos tomados de 5 en 5 sin posibilidad de repetir= 15.120"
      ]
    },
    {
      "metadata": {
        "id": "dDoX3H3ZAIrQ",
        "colab_type": "text"
      },
      "cell_type": "markdown",
      "source": [
        "**(*)¿Cual es la estructura de datos que mejor se adapta al problema? Argumentalo.(Es posible que hayas elegido una al principio y veas la necesidad de cambiar, arguentalo) **\n",
        "\n",
        "Tal y como he comentado anteriormente, para el planteamiento del problema he supuesto que los signos se mantienen fijos y lo que va variando son las cifras por lo que la estructura de los datos que he escogido es una lista con los números desde 1 a 9:['1','2','3','4','5','6','7','8','9'].\n",
        "Además el resultado de realizar la ecuación, lo guardo en resultado y es un número.\n",
        "Inicialmente, consideré que los signos de la operación matemática tendrían un orden fijo, primero suma luego resta y finalmente multiplicación y división. Sin embargo, haciéndolo así se quedan algunos resultados fuera, por lo que he cambiado la estructura y los signos también son una lista: ['+','-','*','/']\n"
      ]
    },
    {
      "metadata": {
        "id": "zdwrvI4kA2AL",
        "colab_type": "code",
        "colab": {}
      },
      "cell_type": "code",
      "source": [
        "numeros=['1','2','3','4','5','6','7','8','9']\n",
        "signos =['+','-','*','/']"
      ],
      "execution_count": 0,
      "outputs": []
    },
    {
      "metadata": {
        "id": "8PX0L-2CAzE7",
        "colab_type": "text"
      },
      "cell_type": "markdown",
      "source": [
        "**Según el modelo para el espacio de soluciones <br>\n",
        "(*)¿Cual es la función objetivo? (*) <br>\n",
        "¿Es un problema de maximización o minimización?** <br>\n",
        " \n",
        " No se trata de un problema de optimización por lo que no hay una función objetivo como tal.\n",
        " Tal y como propone el enunciado, he analizado los posibles valores máximos y mínimos que puede tomar la función. Tengo dos ecuaciones:\n",
        " \n",
        " \n",
        " REVISAR\n",
        "\n",
        "* a)  número1+número2-número3 (siendo número 3 al resultado de la multiplicación y la división)\n",
        "* b) número1-número2+número3 \n",
        "\n",
        "El valor máximo lo encontraré en el caso b) cuando número 3 sea máximo, número1-número2 sea lo mayor posible, teniendo en cuenta que se han empleado valores altos para número3\n",
        "El valor mínimo lo encontraré para el caso a) con los mismos valores anteriores. Si mis números no fallan:\n",
        "número1=7\n",
        "número2=2\n",
        "número3=9/1*8 \n",
        "Para el caso a) el mínimo será -63, para el caso b) el máximo será 77.\n",
        "\n",
        "\n"
      ]
    },
    {
      "metadata": {
        "id": "toYF5IxwXghJ",
        "colab_type": "text"
      },
      "cell_type": "markdown",
      "source": [
        "**Diseña un algoritmo para resolver el problema por fuerza bruta**\n",
        "\n"
      ]
    },
    {
      "metadata": {
        "id": "gNz7GHI9XzXc",
        "colab_type": "code",
        "colab": {}
      },
      "cell_type": "code",
      "source": [
        "#Cálculo de la solución por fuerza bruta. Se introduce la lista inicial y el número que se quiere obtener como resultado y devuelve una solución (puede haber más de una)\n",
        "\n",
        "numeros=['1','2','3','4','5','6','7','8','9','1','2','3','4']\n",
        "def fuerza_bruta(numeros,resultados):\n",
        "  for i in range(len(numeros)):\n",
        "    for s1 in range(len(signos)):\n",
        "      for j in range (i+1,len(numeros)-3):\n",
        "        for s2 in range(s1+1,len(signos)):\n",
        "          for k in range(j+1,len(numeros)-2):\n",
        "            for s3 in range(s2+1,len(signos)):\n",
        "              for l in range(k+1,len(numeros)-1):\n",
        "                for s4 in range(s3+1,len(signos)):\n",
        "                  for m in range(l+1,len(numeros)):\n",
        "                    #exp=numeros[i]+signos[s1]+numeros[j]+signos[s2]+numeros[k]+signos[s3]+numeros[l]+signos[s4]+numeros[m]\n",
        "                    resultado = eval(str(numeros[i]+signos[s1]+numeros[j]+signos[s2]+numeros[k]+signos[s3]+numeros[l]+signos[s4]+numeros[m]))\n",
        "                    if resultado==resultados:\n",
        "                      mejor_solucion=([numeros[i],numeros[j],numeros[k],numeros[l],numeros[m]])\n",
        "  return mejor_solucion"
      ],
      "execution_count": 0,
      "outputs": []
    },
    {
      "metadata": {
        "id": "Lf7xdvSAYO9E",
        "colab_type": "code",
        "colab": {
          "base_uri": "https://localhost:8080/",
          "height": 34
        },
        "outputId": "2597f3e0-51b4-41b4-8d83-79d25067ae94"
      },
      "cell_type": "code",
      "source": [
        "calcular(numeros,7.0)"
      ],
      "execution_count": 15,
      "outputs": [
        {
          "output_type": "execute_result",
          "data": {
            "text/plain": [
              "(9, 8, 6, 3, 5)"
            ]
          },
          "metadata": {
            "tags": []
          },
          "execution_count": 15
        }
      ]
    },
    {
      "metadata": {
        "id": "WNGiQNcQYaEg",
        "colab_type": "text"
      },
      "cell_type": "markdown",
      "source": [
        "**Calcula la complejidad del algoritmo por fuerza bruta**\n",
        "\n",
        "Observando el código aparecen 6 bucles anidados con lo que la complejidad es de orden 6."
      ]
    },
    {
      "metadata": {
        "id": "M-LupJrhY6T4",
        "colab_type": "text"
      },
      "cell_type": "markdown",
      "source": [
        "**(*)Diseña un algoritmo que mejore la complejidad del algortimo por fuerza bruta. Argumenta porque crees que mejora el algoritmo por fuerza bruta **\n",
        "\n",
        "He implementado un algoritmo de búsqueda aleatoria. Para ello he utilizado una función llamada crear_solucion que lo que hace es crear_una solución aleatoria."
      ]
    },
    {
      "metadata": {
        "id": "972OZTGDZbC3",
        "colab_type": "code",
        "colab": {}
      },
      "cell_type": "code",
      "source": [
        "#Búsqueda aleatoria\n",
        "#Crear solucion aleatoria:\n",
        "import random\n",
        "def crear_solucion(numeros):\n",
        "  solucion=[]\n",
        "  for i in range(len(numeros)-1):\n",
        "    if len(solucion)<5:\n",
        "      solucion=solucion+[random.choice(list(set(numeros)-set(solucion)))]\n",
        "  return solucion\n"
      ],
      "execution_count": 0,
      "outputs": []
    },
    {
      "metadata": {
        "id": "7nP6dGHXZeFK",
        "colab_type": "code",
        "colab": {}
      },
      "cell_type": "code",
      "source": [
        "#Busqueda aleatoria\n",
        "\n",
        "def busqueda_aleatoria (numeros, resultado_obtener,n):\n",
        "  resultado=0\n",
        "  mejor_solucion=[]\n",
        "  #while resultado1 != resultado_obtener or resultado2 != resultado_obtener:#utilicé esto inicialmente, funcionaría si la solución existe, sino entraría en \n",
        "    #bucle infinitio por lo que lo modifiqué\n",
        "  for i in range(1000):\n",
        "    solucion=crear_solucion(numeros)\n",
        "    for s1 in range(len(signos)):\n",
        "      for s2 in range(s1+1,len(signos)):\n",
        "        for s3 in range(s2+1,len(signos)):\n",
        "          for s4 in range(s3+1,len(signos)):\n",
        "            expr=str(solucion[0]+signos[s1]+solucion[1]+signos[s2]+solucion[2]+signos[s3]+solucion[3]+signos[s4]+solucion[4])\n",
        "            resultado = eval(expr)\n",
        "          if resultado == resultado_obtener :\n",
        "            mejor_solucion=solucion\n",
        "  return mejor_solucion"
      ],
      "execution_count": 0,
      "outputs": []
    },
    {
      "metadata": {
        "id": "vCYG6X6ibSv8",
        "colab_type": "code",
        "colab": {
          "base_uri": "https://localhost:8080/",
          "height": 34
        },
        "outputId": "e8eab960-75b0-4951-f49c-16a61da9b761"
      },
      "cell_type": "code",
      "source": [
        "busqueda_aleatoria(numeros,4.0,100)"
      ],
      "execution_count": 20,
      "outputs": [
        {
          "output_type": "execute_result",
          "data": {
            "text/plain": [
              "['6', '4', '9', '2', '3']"
            ]
          },
          "metadata": {
            "tags": []
          },
          "execution_count": 20
        }
      ]
    }
  ]
}