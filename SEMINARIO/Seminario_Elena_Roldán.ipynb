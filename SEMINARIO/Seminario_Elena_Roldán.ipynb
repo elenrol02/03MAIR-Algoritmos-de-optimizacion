{
  "nbformat": 4,
  "nbformat_minor": 0,
  "metadata": {
    "colab": {
      "name": "Seminario_Elena_Roldán.ipynb",
      "version": "0.3.2",
      "provenance": [],
      "collapsed_sections": [],
      "include_colab_link": true
    },
    "kernelspec": {
      "name": "python3",
      "display_name": "Python 3"
    }
  },
  "cells": [
    {
      "cell_type": "markdown",
      "metadata": {
        "id": "view-in-github",
        "colab_type": "text"
      },
      "source": [
        "<a href=\"https://colab.research.google.com/github/elenrol02/03MAIR-Algoritmos-de-optimizacion/blob/master/SEMINARIO/Seminario_Elena_Rold%C3%A1n.ipynb\" target=\"_parent\"><img src=\"https://colab.research.google.com/assets/colab-badge.svg\" alt=\"Open In Colab\"/></a>"
      ]
    },
    {
      "metadata": {
        "id": "K0kVXM9d7jQz",
        "colab_type": "text"
      },
      "cell_type": "markdown",
      "source": [
        "# Algoritmos de optimización - Seminario\n",
        "\n",
        "Elena Roldán Del Cerro <br>\n",
        "url: [texto del enlace](https://github.com/elenrol02/03MAIR-Algoritmos-de-optimizacion/tree/master/SEMINARIO) <br>\n",
        "Problema: 3. Combinar cifras y operaciones <br>\n"
      ]
    },
    {
      "metadata": {
        "id": "l8KpEKT78Dk6",
        "colab_type": "text"
      },
      "cell_type": "markdown",
      "source": [
        "**Descripción del problema**: Se disponen de las cifras desde el 1 al 9 y los signos de suma, resta, multiplicación y división. Hay que combinarlos sin repetir ninguno de manera que obtengamos un resultado dado."
      ]
    },
    {
      "metadata": {
        "id": "fQSedEy07f2A",
        "colab_type": "text"
      },
      "cell_type": "markdown",
      "source": [
        "**¿Cuantas posibilidades hay sin tener en cuenta las restricciones?**\n",
        "Las restricciones es que no se repitan ni los números de los signos de las operaciones. Si no se tienen en cuenta las restricciones significa que se pueden repetir los números y las cifras. Por lo que para los números tendría 9^5=59.049 y para los signos tendría 4^4=256. En total, 59.049x256=15.116.544 posibilidades \n",
        "\n",
        "\n"
      ]
    },
    {
      "metadata": {
        "id": "7Qe0luHA9y4_",
        "colab_type": "text"
      },
      "cell_type": "markdown",
      "source": [
        "**(*)¿Cuantas posibilidades hay teniendo en cuenta todas las restricciones?** \n",
        "\n",
        "Si tenemos en cuenta las restricciones, no se pueden repetir números ni signos. Por lo que por una parte tendría variaciones de 9 elementos tomados de 5 en 5 sin repetir: 9x8x7x6x5=15.120. Lo mismo para los signos: 4x3x2x1=24. En total 15.120x24=362.880 opciones posibles."
      ]
    },
    {
      "metadata": {
        "id": "dDoX3H3ZAIrQ",
        "colab_type": "text"
      },
      "cell_type": "markdown",
      "source": [
        "**(*)¿Cual es la estructura de datos que mejor se adapta al problema? Argumentalo.(Es posible que hayas elegido una al principio y veas la necesidad de cambiar, arguentalo) **\n",
        "\n",
        "Inicialmente planteé el problema poniendo como datos de entrada una lista con los 9 números y dejando fijo los signos. Pero luego me dí cuenta que de esta forma no abarcaba todos los casos posibles. Por lo que finalmente, decidí establecer dos listas, una para los signos y otra para los números.<br>\n",
        "Además, para resolver el problema por fuerza bruta he obtenido dos listas de elementos: una de ella con todas las permutaciones de 9 elementos tomados de 5 en 5 que obtengo a partir de la lista de números y otra con las permutaciones de los 4 signos.\n",
        "\n",
        "\n"
      ]
    },
    {
      "metadata": {
        "id": "zdwrvI4kA2AL",
        "colab_type": "code",
        "colab": {}
      },
      "cell_type": "code",
      "source": [
        "numeros=['1','2','3','4','5','6','7','8','9']\n",
        "signos =['+','-','*','/']\n",
        "\n",
        "from itertools import * \n",
        "\n",
        "sig=list(permutations(signos))\n",
        "num=list(permutations(numeros,5))"
      ],
      "execution_count": 0,
      "outputs": []
    },
    {
      "metadata": {
        "id": "8PX0L-2CAzE7",
        "colab_type": "text"
      },
      "cell_type": "markdown",
      "source": [
        "**(*)Según el modelo para el espacio de soluciones <br>\n",
        "¿Cual es la función objetivo?  <br>\n",
        "¿Es un problema de maximización o minimización?**  <br>\n",
        " \n",
        " No se trata de un problema de optimización por lo que no hay una función objetivo como tal.\n",
        " Tal y como propone el enunciado, he analizado los posibles valores máximos y mínimos que puede tomar la función. \n",
        " \n",
        " \n",
        "\n",
        "*   a) Para obtener el mínimo tendré que tener una resta en la que el minuendo tiene que ser menor que el sustraendo. Por lo que en la parte del minuendo tendría que poner la división que como valor mínimo puede ser 6/3=2 y en el sustraendo la multiplicación mayor que podría ser 9*8=56 y sumando el valor mínimo posible que es 1. El resultado mínimo sería pues -69.\n",
        "*   b) Siguiendo el mismo razonamiento, para obtener el valor máximo debería tener en el minuendo el valor máximo y en el sustraendo el mínimo posible. De esta forma el valor máximo es 77.\n",
        "\n",
        "\n"
      ]
    },
    {
      "metadata": {
        "id": "toYF5IxwXghJ",
        "colab_type": "text"
      },
      "cell_type": "markdown",
      "source": [
        "**Diseña un algoritmo para resolver el problema por fuerza bruta**\n",
        "\n",
        "Como he comentado anteriormente, utilizo como datos de entrada las permutaciones de los números y los signos, hasta encontrar el valor que se desea. Si no hay una solución para el resultado_obtener de entrada, el algoritmo devuelve 0. \n"
      ]
    },
    {
      "metadata": {
        "id": "gNz7GHI9XzXc",
        "colab_type": "code",
        "colab": {}
      },
      "cell_type": "code",
      "source": [
        "def fuerza_bruta(num,sig,resultado_obtener):\n",
        "  solucion=0\n",
        "  \n",
        "  #Recorro todos los valores de números y signos posibles\n",
        "  for i in range(len(num)): #Recorre toda la lista de permutaciones de números\n",
        "    for s in range (len(sig)): #Recorre toda la lista de permutaciones de signos\n",
        "      resultado=eval(num[i][0]+sig[s][0]+num[i][1]+sig[s][1]+num[i][2]+sig[s][2]+num[i][3]+sig[s][3]+num[i][4])\n",
        "      if resultado==resultado_obtener:\n",
        "        solucion=(num[i][0],sig[s][0],num[i][1],sig[s][1],num[i][2],sig[s][2],num[i][3],sig[s][3],num[i][4])\n",
        "  return solucion\n",
        "      "
      ],
      "execution_count": 0,
      "outputs": []
    },
    {
      "metadata": {
        "id": "Lf7xdvSAYO9E",
        "colab_type": "code",
        "outputId": "e7b03a3c-f015-4c01-9105-fb162dcc162c",
        "colab": {
          "base_uri": "https://localhost:8080/",
          "height": 34
        }
      },
      "cell_type": "code",
      "source": [
        "fuerza_bruta(num,sig,50.0)"
      ],
      "execution_count": 4,
      "outputs": [
        {
          "output_type": "execute_result",
          "data": {
            "text/plain": [
              "('9', '+', '8', '*', '6', '-', '7', '/', '1')"
            ]
          },
          "metadata": {
            "tags": []
          },
          "execution_count": 4
        }
      ]
    },
    {
      "metadata": {
        "id": "WNGiQNcQYaEg",
        "colab_type": "text"
      },
      "cell_type": "markdown",
      "source": [
        "**Calcula la complejidad del algoritmo por fuerza bruta**\n",
        "\n",
        "Sin tener en cuenta las operaciones de cálculo de permutaciones, tengo dos bucles anidados, por lo que tendría complejidad de n al cuadrado.\n",
        "Al añadir la operación de permutaciones, tendría que recorrer por una parte toda la lista de números 5 veces lo que tendría complejidad de grado 5.\n",
        "También tendría que recorrer los signos, lo que me daría complejidad cuadrática.\n",
        "Añadido a los dos bucles anidados mencinados al principio, tendría complejidad de grado 7."
      ]
    },
    {
      "metadata": {
        "id": "M-LupJrhY6T4",
        "colab_type": "text"
      },
      "cell_type": "markdown",
      "source": [
        "**(*)Diseña un algoritmo que mejore la complejidad del algortimo por fuerza bruta. Argumenta porque crees que mejora el algoritmo por fuerza bruta **\n",
        "\n",
        "He implementado un algoritmo de búsqueda aleatoria. Para ello he utilizado dos funciones para generar una lista de soluciones aleatoria de números y otra para generar una lista de soluciones aleatoria de signos."
      ]
    },
    {
      "metadata": {
        "id": "972OZTGDZbC3",
        "colab_type": "code",
        "colab": {
          "base_uri": "https://localhost:8080/",
          "height": 34
        },
        "outputId": "5b372d6c-3901-4e07-929a-c2f918ef9b75"
      },
      "cell_type": "code",
      "source": [
        "#Búsqueda aleatoria\n",
        "#Crear solucion aleatoria:\n",
        "import random\n",
        "def crear_solucion(numeros):\n",
        "  solucion=[]\n",
        "  for i in range(len(numeros)):\n",
        "    if len(solucion)<5:\n",
        "      solucion=solucion+[random.choice(list(set(numeros)-set(solucion)))]\n",
        "  return solucion\n",
        "crear_solucion(numeros)"
      ],
      "execution_count": 5,
      "outputs": [
        {
          "output_type": "execute_result",
          "data": {
            "text/plain": [
              "['3', '7', '8', '9', '5']"
            ]
          },
          "metadata": {
            "tags": []
          },
          "execution_count": 5
        }
      ]
    },
    {
      "metadata": {
        "id": "mZ4att9GtyrS",
        "colab_type": "code",
        "colab": {
          "base_uri": "https://localhost:8080/",
          "height": 34
        },
        "outputId": "32c33532-30a9-486d-f58e-d2cc2bf44023"
      },
      "cell_type": "code",
      "source": [
        "#Crear signos aleatorios\n",
        "def crear_signos(signos):\n",
        "  sign=[]\n",
        "  for i in range(len(signos)):\n",
        "    if len(sign)<4:\n",
        "      sign=sign+[random.choice(list(set(signos)-set(sign)))]\n",
        "  return sign\n",
        "crear_signos(signos)"
      ],
      "execution_count": 6,
      "outputs": [
        {
          "output_type": "execute_result",
          "data": {
            "text/plain": [
              "['*', '-', '/', '+']"
            ]
          },
          "metadata": {
            "tags": []
          },
          "execution_count": 6
        }
      ]
    },
    {
      "metadata": {
        "id": "8xek-7-qt8mH",
        "colab_type": "code",
        "colab": {
          "base_uri": "https://localhost:8080/",
          "height": 34
        },
        "outputId": "725f1179-1b71-46dd-bf93-b5c25df0085d"
      },
      "cell_type": "code",
      "source": [
        "def busqueda_aleatoria(numeros,signos,resultado_obtener,iteraciones):\n",
        "  resultado=0\n",
        "  mejor_solucion=[]\n",
        "  \n",
        "  for i in range(iteraciones):#Repito el proceso hasta llegar a número de iteraciones\n",
        "    sol_numeros=crear_solucion(numeros)#Creo solución de números aleatoria\n",
        "    sol_signos=crear_signos(signos)#Creo solución de signos aleatoria\n",
        "    \n",
        "    resultado=eval(str(sol_numeros[0]+sol_signos[0]+sol_numeros[1]+sol_signos[1]+sol_numeros[2]+sol_signos[2]+sol_numeros[3]+sol_signos[3]+sol_numeros[4]))\n",
        "    if resultado==resultado_obtener:\n",
        "      mejor_solucion=[sol_numeros,sol_signos]\n",
        "  return mejor_solucion\n",
        "busqueda_aleatoria(numeros,signos,-50.0,5000)"
      ],
      "execution_count": 7,
      "outputs": [
        {
          "output_type": "execute_result",
          "data": {
            "text/plain": [
              "[['4', '7', '1', '8', '2'], ['-', '/', '*', '+']]"
            ]
          },
          "metadata": {
            "tags": []
          },
          "execution_count": 7
        }
      ]
    },
    {
      "metadata": {
        "id": "_EWdV6HqvOOU",
        "colab_type": "text"
      },
      "cell_type": "markdown",
      "source": [
        "(*)**Calcula la complejidad del algoritmo**\n",
        "\n",
        "El algoritmo tiene una bucle que recorre todas las n iteraciones posibles. Dentro de este for, hay una llamada a la función crear_numeros que tiene complejidad n una llamada a la función crear_signos que también tiene complejidad n. Por lo que la complejidad sería de grado 2. \n",
        "\n"
      ]
    },
    {
      "metadata": {
        "id": "ZKpVseYEwV4l",
        "colab_type": "text"
      },
      "cell_type": "markdown",
      "source": [
        "**Según el problema (y tenga sentido), diseña un juego de datos de entrada aleatorios**"
      ]
    },
    {
      "metadata": {
        "id": "BbKHtW3Lu_qE",
        "colab_type": "code",
        "colab": {
          "base_uri": "https://localhost:8080/",
          "height": 34
        },
        "outputId": "91c4ab07-dffd-415e-8361-944c7a1bdd81"
      },
      "cell_type": "code",
      "source": [
        "#Creo una función aleatoria para crear listas de números aleatorios de enteros\n",
        "def aleatorio(n, inicio,fin):#inicio y fin para seleccionar el rango de números entre los que quiero los números de la lista\n",
        "  lista = [0]  * n\n",
        "  for i in range(n):\n",
        "    lista[i] = random.randint(inicio,fin)\n",
        "  return lista\n",
        " \n",
        "aleatorio(9,0,200)"
      ],
      "execution_count": 67,
      "outputs": [
        {
          "output_type": "execute_result",
          "data": {
            "text/plain": [
              "[98, 59, 17, 121, 31, 97, 125, 78, 157]"
            ]
          },
          "metadata": {
            "tags": []
          },
          "execution_count": 67
        }
      ]
    },
    {
      "metadata": {
        "id": "5-dgwt0NzgsG",
        "colab_type": "text"
      },
      "cell_type": "markdown",
      "source": [
        "**Aplica el algoritmo al juego de datos generado**\n",
        "\n"
      ]
    },
    {
      "metadata": {
        "id": "lwkhYsTdzsPl",
        "colab_type": "code",
        "colab": {}
      },
      "cell_type": "code",
      "source": [
        "#Lo aplico a una lista de 9 números aleatorios\n",
        "ej=aleatorio(9,0,200)\n",
        "ej_aleatorio = [str(x) for x in ej]#Para convertir a una lista de strings\n",
        "\n"
      ],
      "execution_count": 0,
      "outputs": []
    },
    {
      "metadata": {
        "id": "zTHp8Rsc19-i",
        "colab_type": "code",
        "colab": {
          "base_uri": "https://localhost:8080/",
          "height": 34
        },
        "outputId": "74adae2e-4613-46da-ca2f-e64626db81b5"
      },
      "cell_type": "code",
      "source": [
        "busqueda_aleatoria(ej_aleatorio,signos,9804.0,50000)"
      ],
      "execution_count": 85,
      "outputs": [
        {
          "output_type": "execute_result",
          "data": {
            "text/plain": [
              "[['105', '1', '94', '116', '50'], ['/', '*', '-', '+']]"
            ]
          },
          "metadata": {
            "tags": []
          },
          "execution_count": 85
        }
      ]
    },
    {
      "metadata": {
        "id": "T08gQV7p3IcT",
        "colab_type": "text"
      },
      "cell_type": "markdown",
      "source": [
        "**Describe brevemente las lineas de como crees que es posible avanzar en el estudio del problema. Ten en cuenta incluso posibles variaciones del problema y/o variaciones al alza del tamaño**\n",
        "\n",
        "Se pueden utilizar más signos y más números o incluso números seleccionados aposta para ver que combinaciones y que signos se pueden utilizar para obtener un resultado. \n"
      ]
    }
  ]
}