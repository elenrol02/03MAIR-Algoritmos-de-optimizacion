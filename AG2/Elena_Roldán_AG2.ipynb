{
  "nbformat": 4,
  "nbformat_minor": 0,
  "metadata": {
    "colab": {
      "name": "Elena Roldán - AG2.ipynb",
      "version": "0.3.2",
      "provenance": [],
      "include_colab_link": true
    },
    "kernelspec": {
      "name": "python3",
      "display_name": "Python 3"
    }
  },
  "cells": [
    {
      "cell_type": "markdown",
      "metadata": {
        "id": "view-in-github",
        "colab_type": "text"
      },
      "source": [
        "<a href=\"https://colab.research.google.com/github/elenrol02/03MAIR-Algoritmos-de-optimizacion/blob/master/AG2/Elena_Rold%C3%A1n_AG2.ipynb\" target=\"_parent\"><img src=\"https://colab.research.google.com/assets/colab-badge.svg\" alt=\"Open In Colab\"/></a>"
      ]
    },
    {
      "metadata": {
        "id": "5XM8pmbOIWK6",
        "colab_type": "text"
      },
      "cell_type": "markdown",
      "source": [
        "AG2 - Actividad Guida 2 <br>\n",
        "\n",
        "Elena Roldán Del Cerro <br>\n",
        "\n",
        "URL:[ https://github.com/elenrol02/03MAIR-Algoritmos-de-optimizacion/tree/master/AG2](https://)"
      ]
    },
    {
      "metadata": {
        "id": "T0Z-X6JFJ5qm",
        "colab_type": "code",
        "outputId": "ff75689b-f3e3-48ba-bf55-17a3c9e92d42",
        "colab": {
          "base_uri": "https://localhost:8080/",
          "height": 54
        }
      },
      "cell_type": "code",
      "source": [
        "#Encontrar los dos puntos más cercanos\n",
        "\n",
        "import math\n",
        "import random\n",
        "\n",
        "N=100\n",
        "\n",
        "LISTA_2D = [  (random.randrange(1,N*10),random.randrange(1,N*10) )  for _ in range(N)]\n",
        "\n",
        "print (LISTA_2D)"
      ],
      "execution_count": 1,
      "outputs": [
        {
          "output_type": "stream",
          "text": [
            "[(61, 172), (187, 733), (474, 209), (864, 902), (156, 673), (54, 404), (775, 530), (287, 889), (739, 298), (679, 866), (367, 115), (617, 778), (638, 882), (383, 847), (196, 665), (445, 588), (673, 125), (66, 435), (394, 724), (815, 464), (585, 534), (14, 619), (361, 97), (353, 626), (721, 763), (855, 50), (853, 544), (322, 791), (513, 873), (421, 715), (140, 755), (523, 76), (993, 81), (361, 945), (182, 773), (218, 934), (260, 863), (560, 745), (317, 354), (315, 840), (801, 717), (859, 540), (490, 138), (202, 237), (576, 449), (327, 137), (55, 798), (56, 750), (607, 644), (563, 749), (513, 922), (881, 150), (52, 963), (642, 206), (910, 459), (378, 280), (434, 277), (46, 190), (160, 60), (576, 923), (399, 833), (319, 716), (263, 469), (927, 365), (905, 987), (385, 525), (719, 798), (376, 660), (154, 460), (100, 112), (372, 294), (514, 529), (664, 942), (579, 881), (420, 735), (435, 451), (581, 759), (404, 541), (531, 831), (76, 600), (731, 534), (625, 941), (321, 399), (898, 907), (41, 732), (366, 311), (299, 579), (981, 359), (634, 753), (761, 668), (151, 3), (94, 442), (357, 543), (282, 299), (579, 124), (32, 179), (307, 398), (970, 335), (880, 376), (279, 19)]\n"
          ],
          "name": "stdout"
        }
      ]
    },
    {
      "metadata": {
        "id": "HjNfLaOxQHxl",
        "colab_type": "code",
        "outputId": "c7fb5bdf-d3b6-4dd6-93c2-ec45c006793c",
        "colab": {
          "base_uri": "https://localhost:8080/",
          "height": 34
        }
      },
      "cell_type": "code",
      "source": [
        "print (LISTA_2D[:5])"
      ],
      "execution_count": 2,
      "outputs": [
        {
          "output_type": "stream",
          "text": [
            "[(61, 172), (187, 733), (474, 209), (864, 902), (156, 673)]\n"
          ],
          "name": "stdout"
        }
      ]
    },
    {
      "metadata": {
        "id": "I0zFvqScIU_r",
        "colab_type": "code",
        "colab": {}
      },
      "cell_type": "code",
      "source": [
        "def distancia (A,B):\n",
        "  if type(A) is int or type(A) is float:\n",
        "    return abs(B-A)\n",
        "  else:\n",
        "    return math.sqrt(sum([(A[i]-B[i])**2 for i in range(len(A))]))"
      ],
      "execution_count": 0,
      "outputs": []
    },
    {
      "metadata": {
        "id": "LPE1rnL3LrCg",
        "colab_type": "code",
        "outputId": "1ebfa0c8-1105-40a9-dddb-6d0b2cde0146",
        "colab": {
          "base_uri": "https://localhost:8080/",
          "height": 34
        }
      },
      "cell_type": "code",
      "source": [
        "#Fuerza bruta\n",
        "def distancia_fuerza_bruta(L):\n",
        "  mejor_distancia=100000e10\n",
        "  \n",
        "  #Mejor posibilidad encontrada hasta el momento\n",
        "  A,B=(),()\n",
        "  \n",
        "  #Recorrer toda la lista\n",
        "  for i in range(len(L)):\n",
        "    #Por cada uno de los puntos, recorrerla otra vez\n",
        "    for j in range (i+1,len(L)):\n",
        "      D=distancia (L[i],L[j])\n",
        "      #if distancia (L[i],L[j])<mejor_distancia:\n",
        "      if D<mejor_distancia:\n",
        "        A,B=L[i],L[j]\n",
        "        mejor_distancia =D\n",
        "  return [A,B]\n",
        "\n",
        "distancia_fuerza_bruta(LISTA_2D)"
      ],
      "execution_count": 4,
      "outputs": [
        {
          "output_type": "execute_result",
          "data": {
            "text/plain": [
              "[(560, 745), (563, 749)]"
            ]
          },
          "metadata": {
            "tags": []
          },
          "execution_count": 4
        }
      ]
    },
    {
      "metadata": {
        "id": "Cq6-9rVKPnN_",
        "colab_type": "code",
        "outputId": "1364e500-6a83-4316-bac2-41500e5fb8d9",
        "colab": {
          "base_uri": "https://localhost:8080/",
          "height": 34
        }
      },
      "cell_type": "code",
      "source": [
        "#Encontrar los dos puntos más cercanos con divide y vencerás\n",
        "def distancia_divide_venceras(L):\n",
        "  #Si hay una lista pequeña de puntos => fuerza bruta\n",
        "  if len(L) < 10:\n",
        "    return distancia_fuerza_bruta(L)\n",
        "\n",
        "  \n",
        "  #Pivote para dividir: Dividir el plano en dos mitades (coordenada horizontal)\n",
        "  #Pivote: Media de todas las coordenadas de los puntos\n",
        "  #pivote= sum ([L[i]L[0] for i in range(len(L))])/len(L)\n",
        "  \n",
        "  #Ordenar lista en base a la primera coordenada. Primer parámetro lista que queremos ordenar y segundo la clave (ordenar por la primera coordenada). Nos quedamos sólo con la mitad de la lista\n",
        "  izd = sorted (L, key=lambda x: x[0])[:len(L)//2] #// division entera\n",
        "  der = sorted (L, key=lambda x: x[0])[len(L)//2:]\n",
        "  \n",
        "  #Calcular los puntos más cercanos de cada una de las listas\n",
        "  puntos_izd=distancia_divide_venceras(izd)\n",
        "  puntos_der=distancia_divide_venceras(der)\n",
        "  #Con esto tengo los mejores dos puntos de la lista de la izd y los dos mejores de la lista de la derecha\n",
        "  \n",
        "  #Ahora con fuerza bruta se calcula la distancia entre los 4 puntos\n",
        "  \n",
        "  return distancia_fuerza_bruta(puntos_izd + puntos_der)\n",
        "\n",
        "\n",
        "def LANZA(L):\n",
        "  return distancia_divide_venceras(L)\n",
        "  \n",
        "SOL=LANZA(LISTA_2D[:100])\n",
        "\n",
        "print (SOL)"
      ],
      "execution_count": 5,
      "outputs": [
        {
          "output_type": "stream",
          "text": [
            "[(560, 745), (563, 749)]\n"
          ],
          "name": "stdout"
        }
      ]
    },
    {
      "metadata": {
        "id": "V-no8Hm9Vq6j",
        "colab_type": "code",
        "outputId": "b155dec8-4291-49f8-c481-193cffed872d",
        "colab": {
          "base_uri": "https://localhost:8080/",
          "height": 139
        }
      },
      "cell_type": "code",
      "source": [
        "#Paseo por el rio\n",
        "#Cada linea incluye el coste de ir (primera linea): de 0 a 0 es 0. El coste de ir de 0 a 1 es 5. El coste desde 0 hasta 2 es 4. El coste de ir de 0 a 3 es 3. Como no se puede ir de 0 a 4 se da un valor alto\n",
        "TARIFAS = [\n",
        "[0,5,4,3,999,999,999],\n",
        "[999,0,999,2,3,999,11],\n",
        "[999,999, 0,1,999,4,10],\n",
        "[999,999,999, 0,5,6,9],\n",
        "[999,999, 999,999,0,999,4],\n",
        "[999,999, 999,999,999,0,3],\n",
        "[999,999,999,999,999,999,0]\n",
        "]\n",
        "\n",
        "#Matriz de costes\n",
        "\n",
        "\n",
        "def precios(TARIFAS):\n",
        "  #Numero de puntos que tenemos\n",
        "  N=len(TARIFAS[0])\n",
        "  \n",
        "  #Precios que se van guardando de la matriz de precios: costes de ir de un punto a otro de manera optima. Se inicializan con valores altos\n",
        "  PRECIOS=[[9999]*N for i in [9999]*N] # Definimos matriz cuadrada de tamaño N con todos los valores a 9999\n",
        "  \n",
        "  #Resultado de inicio y de fin. Por donde nos interesa ir para minimizar el coste\n",
        "  RUTA=[ [\"\"]*N for i in [9999]*N]\n",
        "  \n",
        "  #REcorrer puntos y calcular precios. Programacion dinamica. Nos quedamos hasta el penultimo elemento\n",
        "  \n",
        "  for i in range(N-1):\n",
        "    for j in range (i+1,N):\n",
        "      #Ir desde un punto al resto\n",
        "      MIN = TARIFAS[i][j]\n",
        "      RUTA[i][j]=i\n",
        "      \n",
        "      #Volver a recorrer toda la tabla de precios para aplicar la funcion de coste. Min de ir directo o ir pasando por puntos intermedios\n",
        "      \n",
        "      for k in range (i,j):\n",
        "        if PRECIOS[i][k]+TARIFAS[k][j] < MIN:\n",
        "          MIN= min (MIN,PRECIOS[i][k]+TARIFAS[k][j] )\n",
        "          #Anotamos la ruta de ese valor k. El valor k es el paso para ir de i a j parando por k\n",
        "          RUTA[i][j]=k\n",
        "      #Guardamos en precios el valor\n",
        "      \n",
        "      PRECIOS[i][j] = MIN\n",
        "  return PRECIOS, RUTA\n",
        "\n",
        "PRECIOS,RUTA = precios(TARIFAS)\n",
        "\n",
        "print (PRECIOS)\n",
        "\n",
        "print ()\n",
        "\n",
        "print (RUTA)\n",
        "\n",
        "\n",
        "def calcular_ruta(RUTA, desde, hasta):\n",
        "  if desde == hasta:\n",
        "    #print(\"Ir a :\" + str(desde))\n",
        "    return desde \n",
        "  else:\n",
        "    return str(calcular_ruta(RUTA, desde, RUTA[desde][hasta])) +  ',' + str(RUTA[desde][hasta]) \n",
        "\n",
        "print(\"\\nLa ruta es:\")  \n",
        "calcular_ruta(RUTA, 0,6)"
      ],
      "execution_count": 12,
      "outputs": [
        {
          "output_type": "stream",
          "text": [
            "[[9999, 5, 4, 3, 8, 8, 11], [9999, 9999, 999, 2, 3, 8, 7], [9999, 9999, 9999, 1, 6, 4, 7], [9999, 9999, 9999, 9999, 5, 6, 9], [9999, 9999, 9999, 9999, 9999, 999, 4], [9999, 9999, 9999, 9999, 9999, 9999, 3], [9999, 9999, 9999, 9999, 9999, 9999, 9999]]\n",
            "\n",
            "[['', 0, 0, 0, 1, 2, 5], ['', '', 1, 1, 1, 3, 4], ['', '', '', 2, 3, 2, 5], ['', '', '', '', 3, 3, 3], ['', '', '', '', '', 4, 4], ['', '', '', '', '', '', 5], ['', '', '', '', '', '', '']]\n",
            "\n",
            "La ruta es:\n"
          ],
          "name": "stdout"
        },
        {
          "output_type": "execute_result",
          "data": {
            "text/plain": [
              "'0,0,2,5'"
            ]
          },
          "metadata": {
            "tags": []
          },
          "execution_count": 12
        }
      ]
    }
  ]
}