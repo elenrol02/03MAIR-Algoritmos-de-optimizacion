{
  "nbformat": 4,
  "nbformat_minor": 0,
  "metadata": {
    "colab": {
      "name": "Pruebas.ipynb",
      "version": "0.3.2",
      "provenance": [],
      "collapsed_sections": [],
      "include_colab_link": true
    },
    "kernelspec": {
      "name": "python3",
      "display_name": "Python 3"
    }
  },
  "cells": [
    {
      "cell_type": "markdown",
      "metadata": {
        "id": "view-in-github",
        "colab_type": "text"
      },
      "source": [
        "<a href=\"https://colab.research.google.com/github/elenrol02/03MAIR-Algoritmos-de-optimizacion/blob/master/Pruebas.ipynb\" target=\"_parent\"><img src=\"https://colab.research.google.com/assets/colab-badge.svg\" alt=\"Open In Colab\"/></a>"
      ]
    },
    {
      "metadata": {
        "id": "mSoa804lxhVq",
        "colab_type": "code",
        "colab": {}
      },
      "cell_type": "code",
      "source": [
        "#calcula las permutaciones de los elementos de lista tomados de n en n. De esta forma calcula todos las posibles combinaciones de elementos sin repetir.\n",
        "numeros=[1,2,3,4,5,6,7,8,9]\n",
        "\n",
        "import itertools\n",
        "\n",
        "def permutaciones(inicio,n):\n",
        "  return list(itertools.permutations([1,2,3,4,5,6,7,8,9],5))#aqui tengo todas las combinaciones de valores"
      ],
      "execution_count": 0,
      "outputs": []
    },
    {
      "metadata": {
        "id": "fNp7Ecv-tU_W",
        "colab_type": "code",
        "colab": {}
      },
      "cell_type": "code",
      "source": [
        ""
      ],
      "execution_count": 0,
      "outputs": []
    },
    {
      "metadata": {
        "id": "yAOc-I16gmF3",
        "colab_type": "code",
        "colab": {}
      },
      "cell_type": "code",
      "source": [
        "ejemplo=permutaciones(numeros,5)"
      ],
      "execution_count": 0,
      "outputs": []
    },
    {
      "metadata": {
        "id": "KBknHqhBfOw1",
        "colab_type": "code",
        "colab": {}
      },
      "cell_type": "code",
      "source": [
        "numeros=['1','2','3','4','5','6','7','8','9']\n",
        "signos =['+','-','*','/']\n",
        "\n",
        "expresion=numeros[0]+signos[0]+numeros[1]"
      ],
      "execution_count": 0,
      "outputs": []
    },
    {
      "metadata": {
        "id": "BZO9btbVthMg",
        "colab_type": "code",
        "colab": {}
      },
      "cell_type": "code",
      "source": [
        "from itertools import * \n",
        "\n",
        "sig=list(permutations(signos))\n",
        "num=list(permutations(numeros,5))"
      ],
      "execution_count": 0,
      "outputs": []
    },
    {
      "metadata": {
        "id": "-Hd3QCHztutR",
        "colab_type": "code",
        "colab": {}
      },
      "cell_type": "code",
      "source": [
        "res=[]\n",
        "for i in range(len(num)):\n",
        "  for s in range (len(sig)):\n",
        "    res.append([num[i][0],sig[s][0],num[i][1],sig[s][1],num[i][2],sig[s][2],num[i][3],sig[s][3],num[i][4]])"
      ],
      "execution_count": 0,
      "outputs": []
    },
    {
      "metadata": {
        "id": "A5hJsZA2uWxz",
        "colab_type": "code",
        "outputId": "496e9b5d-9699-4bbf-e865-e8d4a81d7e13",
        "colab": {
          "base_uri": "https://localhost:8080/",
          "height": 34
        }
      },
      "cell_type": "code",
      "source": [
        "print (len(res))"
      ],
      "execution_count": 0,
      "outputs": [
        {
          "output_type": "stream",
          "text": [
            "362880\n"
          ],
          "name": "stdout"
        }
      ]
    },
    {
      "metadata": {
        "id": "fl9HJy1qMD3a",
        "colab_type": "code",
        "colab": {}
      },
      "cell_type": "code",
      "source": [
        "#Solución por fuerza bruta\n",
        "\n",
        "def fuerza_bruta(num,sig,resultado_obtener):\n",
        "\n",
        "  resultado=[]\n",
        "  #Recorro todos los valores de números y signos posibles\n",
        "  for i in range(len(num)):\n",
        "    for s in range (len(sig)):\n",
        "      resultado=eval(num[i][0]+sig[s][0]+num[i][1]+sig[s][1]+num[i][2]+sig[s][2]+num[i][3]+sig[s][3]+num[i][4])\n",
        "      if resultado==resultado_obtener:\n",
        "        solucion=(num[i][0],sig[s][0],num[i][1],sig[s][1],num[i][2],sig[s][2],num[i][3],sig[s][3],num[i][4])\n",
        "  return solucion\n",
        "      \n",
        "      "
      ],
      "execution_count": 0,
      "outputs": []
    },
    {
      "metadata": {
        "id": "mnaWSEUqRpBv",
        "colab_type": "code",
        "outputId": "3d8f2301-3341-4759-ccde-c87bf8aff039",
        "colab": {
          "base_uri": "https://localhost:8080/",
          "height": 34
        }
      },
      "cell_type": "code",
      "source": [
        "calcular(num,sig,7.0)"
      ],
      "execution_count": 0,
      "outputs": [
        {
          "output_type": "execute_result",
          "data": {
            "text/plain": [
              "('9', '*', '8', '/', '6', '-', '7', '+', '2')"
            ]
          },
          "metadata": {
            "tags": []
          },
          "execution_count": 9
        }
      ]
    },
    {
      "metadata": {
        "id": "DUm9zq7w7Efv",
        "colab_type": "code",
        "outputId": "89dd203f-bbbc-42d8-d2a6-daea699c3a25",
        "colab": {
          "base_uri": "https://localhost:8080/",
          "height": 54
        }
      },
      "cell_type": "code",
      "source": [
        "#Quiero obtener todos los numeros enteros posibles que se pueden calcular\n",
        "calculo=[]\n",
        "for i in range(-100,100):\n",
        "  res=calcular(lista,i)\n",
        "  if len(res)>0:\n",
        "    calculo.append(i)\n",
        "  else:\n",
        "    calculo.append(0)\n",
        "print (calculo)"
      ],
      "execution_count": 0,
      "outputs": [
        {
          "output_type": "stream",
          "text": [
            "[0, 0, 0, 0, 0, 0, 0, 0, 0, 0, 0, 0, 0, 0, 0, 0, 0, 0, 0, 0, 0, 0, 0, 0, 0, 0, 0, 0, 0, 0, 0, 0, 0, -67, -66, -65, -64, -63, -62, -61, -60, -59, -58, -57, -56, -55, -54, -53, -52, -51, -50, -49, -48, -47, -46, -45, -44, -43, -42, -41, -40, -39, -38, -37, -36, -35, -34, -33, -32, -31, -30, -29, -28, -27, -26, -25, -24, -23, -22, -21, -20, -19, -18, -17, -16, -15, -14, -13, -12, -11, -10, -9, -8, -7, -6, -5, -4, -3, -2, -1, 0, 1, 2, 3, 4, 5, 6, 7, 8, 9, 10, 11, 12, 13, 14, 15, 16, 17, 18, 19, 20, 21, 22, 23, 24, 25, 26, 27, 28, 29, 30, 31, 32, 33, 34, 35, 36, 37, 38, 39, 40, 41, 42, 43, 44, 45, 46, 47, 48, 49, 50, 51, 52, 53, 54, 55, 56, 57, 58, 59, 60, 61, 62, 63, 64, 65, 66, 67, 68, 69, 70, 71, 0, 73, 74, 75, 76, 77, 0, 0, 0, 0, 0, 0, 0, 0, 0, 0, 0, 0, 0, 0, 0, 0, 0, 0, 0, 0, 0, 0]\n"
          ],
          "name": "stdout"
        }
      ]
    },
    {
      "metadata": {
        "id": "WL7w92KASDNd",
        "colab_type": "code",
        "colab": {}
      },
      "cell_type": "code",
      "source": [
        "#Valores máximos y mínimos\n",
        "#Utilizo fuerza bruta\n",
        "def calcula_maximo(num,sig,resultado_obtener):\n",
        "  resultado=[]\n",
        "  \n",
        "  for i in range(len(num)):\n",
        "    for s in range (len(sig)):\n",
        "      resultado.append(eval(num[i][0]+sig[s][0]+num[i][1]+sig[s][1]+num[i][2]+sig[s][2]+num[i][3]+sig[s][3]+num[i][4]))\n",
        "  return (max(resultado))\n",
        "      \n",
        "     "
      ],
      "execution_count": 0,
      "outputs": []
    },
    {
      "metadata": {
        "id": "91DzmC8LnBds",
        "colab_type": "code",
        "colab": {}
      },
      "cell_type": "code",
      "source": [
        "#Búsqueda aleatoria\n",
        "#Crear solucion aleatoria:\n",
        "import random\n",
        "def crear_solucion(numeros):\n",
        "  solucion=[]\n",
        "  for i in range(len(numeros)-1):\n",
        "    if len(solucion)<5:\n",
        "      solucion=solucion+[random.choice(list(set(numeros)-set(solucion)))]\n",
        "  return solucion\n"
      ],
      "execution_count": 0,
      "outputs": []
    },
    {
      "metadata": {
        "id": "1EArCJIxoUss",
        "colab_type": "code",
        "colab": {}
      },
      "cell_type": "code",
      "source": [
        "#Busqueda aleatoria\n",
        "\n",
        "def busqueda_aleatoria (numeros, resultado_obtener,n):\n",
        "  resultado=0\n",
        "  mejor_solucion=[]\n",
        "  #while resultado1 != resultado_obtener or resultado2 != resultado_obtener:#utilicé esto inicialmente, funcionaría si la solución existe, sino entraría en \n",
        "    #bucle infinitio por lo que lo modifiqué\n",
        "  for i in range(1000):\n",
        "    solucion=crear_solucion(numeros)\n",
        "    for s1 in range(len(signos)):\n",
        "      for s2 in range(s1+1,len(signos)):\n",
        "        for s3 in range(s2+1,len(signos)):\n",
        "          for s4 in range(s3+1,len(signos)):\n",
        "            expr=str(solucion[0]+signos[s1]+solucion[1]+signos[s2]+solucion[2]+signos[s3]+solucion[3]+signos[s4]+solucion[4])\n",
        "            resultado = eval(expr)\n",
        "          if resultado == resultado_obtener :\n",
        "            mejor_solucion=solucion\n",
        "  return mejor_solucion"
      ],
      "execution_count": 0,
      "outputs": []
    },
    {
      "metadata": {
        "id": "B-cX8AklD5Pm",
        "colab_type": "code",
        "outputId": "5c550d69-87ba-4b4a-a5b7-1c289ea085e7",
        "colab": {
          "base_uri": "https://localhost:8080/",
          "height": 34
        }
      },
      "cell_type": "code",
      "source": [
        "busqueda_aleatoria (numeros,4.0,100)"
      ],
      "execution_count": 0,
      "outputs": [
        {
          "output_type": "execute_result",
          "data": {
            "text/plain": [
              "['1', '9', '3', '8', '4']"
            ]
          },
          "metadata": {
            "tags": []
          },
          "execution_count": 488
        }
      ]
    },
    {
      "metadata": {
        "id": "daeKRy5rDIkk",
        "colab_type": "code",
        "colab": {}
      },
      "cell_type": "code",
      "source": [
        "#Busqueda aleatoria\n",
        "\n",
        "def busqueda_aleatoria (numeros, resultado_obtener,n):\n",
        "  resultado1=0\n",
        "  resultado2=0\n",
        "  \n",
        "  #while resultado1 != resultado_obtener or resultado2 != resultado_obtener:#utilicé esto inicialmente, funcionaría si la solución existe, sino entraría en \n",
        "    #bucle infinitio por lo que lo modifiqué\n",
        "  for i in range(n):\n",
        "    solucion=crear_solucion(numeros)\n",
        "    for s1 in range(len(signos)):\n",
        "      for s2 in range(s1+1,len(signos)):\n",
        "        for s3 in range(s2+1,len(signos)):\n",
        "          for s4 in range(s3+1,len(signos)):\n",
        "    resultado1=eval(str(solucion[0]+solucion[1]-solucion[2]*solucion[3]/solucion[4]))\n",
        "    resultado2=eval(str(solucion[0]-solucion[1]+solucion[2]*solucion[3]/solucion[4]))\n",
        "    if resultado1 == resultado_obtener or resultado2 == resultado_obtener:\n",
        "      mejor_solucion=solucion\n",
        "  return mejor_solucion"
      ],
      "execution_count": 0,
      "outputs": []
    },
    {
      "metadata": {
        "id": "_0Nt2KXGunV3",
        "colab_type": "code",
        "outputId": "c7ef4204-430c-4465-8722-a41c89eee2c9",
        "colab": {
          "base_uri": "https://localhost:8080/",
          "height": 34
        }
      },
      "cell_type": "code",
      "source": [
        "busqueda_aleatoria(numeros,4.0,100)"
      ],
      "execution_count": 0,
      "outputs": [
        {
          "output_type": "execute_result",
          "data": {
            "text/plain": [
              "[7, 9, 8, 3, 2]"
            ]
          },
          "metadata": {
            "tags": []
          },
          "execution_count": 193
        }
      ]
    }
  ]
}